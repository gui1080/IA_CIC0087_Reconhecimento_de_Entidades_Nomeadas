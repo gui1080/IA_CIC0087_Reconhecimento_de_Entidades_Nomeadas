{
  "cells": [
    {
      "cell_type": "markdown",
      "metadata": {
        "id": "Dnuq-Zu1I8pt"
      },
      "source": [
        "# Trabalho final para a matéria: \"Anotação de Textos e Processamento de Linguagem Natural (CIC0087)\" 😊\n",
        "\n",
        "## Reconhecimento de determinadas Entidades Nomeadas providas no corpo de contratos.\n",
        "\n",
        "Extrato de contrato, extrato de convênio, aditamento de extrato de contrato, aviso de licitação, aviso de suspensão de licitação, aviso de revogação/anulação de licitação. \n",
        "\n",
        "## Sim, me dei conta de que o pedido da tarefa originalmente era a classificação de algumas entidades definidas, mas tentei com meus conhecimentos tentar classificar tudo para ver o que aconteceria, como um treinamento para a execução da classificação final.\n",
        "\n",
        "### 👨‍💻 Aluno: Guilherme Braga (17/0162290)\n",
        "\n",
        "#### 🐱 [Repositório no Github](https://github.com/gui1080/IA_CIC0087_Reconhecimento_de_Entidades_Nomeadas)"
      ]
    },
    {
      "cell_type": "markdown",
      "metadata": {
        "id": "vwnQzIkALkBi"
      },
      "source": [
        "### Pegando os dados originais 🧐"
      ]
    },
    {
      "cell_type": "code",
      "execution_count": 528,
      "metadata": {
        "colab": {
          "base_uri": "https://localhost:8080/",
          "height": 74,
          "resources": {
            "http://localhost:8080/nbextensions/google.colab/files.js": {
              "data": "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",
              "headers": [
                [
                  "content-type",
                  "application/javascript"
                ]
              ],
              "ok": true,
              "status": 200,
              "status_text": "OK"
            }
          }
        },
        "id": "F1JsswOULFtZ",
        "outputId": "93b5ab48-5721-456e-90fb-3f0ec297ea74"
      },
      "outputs": [
        {
          "output_type": "display_data",
          "data": {
            "text/plain": [
              "<IPython.core.display.HTML object>"
            ],
            "text/html": [
              "\n",
              "     <input type=\"file\" id=\"files-6c6b856d-08bd-4bc5-b9fa-f62f1eab4d4e\" name=\"files[]\" multiple disabled\n",
              "        style=\"border:none\" />\n",
              "     <output id=\"result-6c6b856d-08bd-4bc5-b9fa-f62f1eab4d4e\">\n",
              "      Upload widget is only available when the cell has been executed in the\n",
              "      current browser session. Please rerun this cell to enable.\n",
              "      </output>\n",
              "      <script src=\"/nbextensions/google.colab/files.js\"></script> "
            ]
          },
          "metadata": {}
        },
        {
          "output_type": "stream",
          "name": "stdout",
          "text": [
            "Saving contratos.csv to contratos (21).csv\n"
          ]
        }
      ],
      "source": [
        "from google.colab import files\n",
        "\n",
        "# importar o arquivo de disco local, com o nome original \"contratos.csv\"\n",
        "uploaded = files.upload()"
      ]
    },
    {
      "cell_type": "markdown",
      "metadata": {
        "id": "cf5843P9LfbS"
      },
      "source": [
        "### Importando, separando e limpando os dados 🚮\n"
      ]
    },
    {
      "cell_type": "code",
      "execution_count": 529,
      "metadata": {
        "colab": {
          "base_uri": "https://localhost:8080/",
          "height": 485
        },
        "id": "5ziMLMyJIW7f",
        "outputId": "ba2b724c-757a-4072-9ab7-a3303179ec2d"
      },
      "outputs": [
        {
          "output_type": "execute_result",
          "data": {
            "text/plain": [
              "      index        id_dodf                 tipo_rel id_rel       anotador_rel  \\\n",
              "0         0    1_31.5.2019      REL_AVISO_LICITACAO    R24    vinicius_borges   \n",
              "1         1  12_22.11.2018  REL_ADITAMENTO_CONTRATO    R15      micael_filipe   \n",
              "2         2     7_2.8.2019     REL_EXTRATO_CONTRATO     R2  alexandre_santana   \n",
              "3         3    5_16.7.2019     REL_EXTRATO_CONTRATO     R4  alexandre_santana   \n",
              "4         4   24_29.1.2019  REL_ADITAMENTO_CONTRATO     R3     matheus_santos   \n",
              "...     ...            ...                      ...    ...                ...   \n",
              "6691   6691  20_13.12.2019  REL_ADITAMENTO_CONTRATO    R31     matheus_santos   \n",
              "6692   6692  19_12.12.2019  REL_ADITAMENTO_CONTRATO     R2     matheus_santos   \n",
              "6693   6693   1_9.2.2018.1      REL_AVISO_LICITACAO    R19     tatiana_franco   \n",
              "6694   6694  16_29.11.2019  REL_ADITAMENTO_CONTRATO     R2     matheus_santos   \n",
              "6695   6695   12_16.1.2019  REL_ADITAMENTO_CONTRATO    R12     matheus_santos   \n",
              "\n",
              "             timestamp_rel                       tipo_ent  id_ent  \\\n",
              "0     2022-04-06T12:59:59Z                sistema_compras     304   \n",
              "1     2022-04-03T11:46:36Z  EXTRATO_ADITAMENTO_CONTRATUAL     295   \n",
              "2     2022-03-08T11:36:58Z       data_assinatura_contrato      83   \n",
              "3     2022-03-08T02:26:00Z                   processo_gdf      61   \n",
              "4     2022-04-02T23:03:19Z           numero_termo_aditivo      17   \n",
              "...                    ...                            ...     ...   \n",
              "6691  2022-04-02T20:10:59Z           numero_termo_aditivo     509   \n",
              "6692  2022-03-30T20:37:52Z                numero_contrato     129   \n",
              "6693  2022-04-04T01:44:36Z               numero_licitacao     185   \n",
              "6694  2022-03-28T21:30:06Z              orgao_contratante      11   \n",
              "6695  2022-04-02T22:06:04Z                numero_contrato     120   \n",
              "\n",
              "           anotador_ent         timestamp_ent   offset  length  \\\n",
              "0       vinicius_borges  2022-04-06T12:59:27Z  1324565      21   \n",
              "1         micael_filipe  2022-02-22T22:11:01Z   601406     518   \n",
              "2     alexandre_santana  2022-02-22T02:19:49Z   386367      10   \n",
              "3     alexandre_santana  2022-02-20T20:54:41Z   622794      22   \n",
              "4        matheus_santos  2022-02-19T01:19:03Z   451337      20   \n",
              "...                 ...                   ...      ...     ...   \n",
              "6691     matheus_santos  2022-04-02T20:10:54Z   450291      16   \n",
              "6692     matheus_santos  2022-02-23T01:30:28Z   314043       8   \n",
              "6693     tatiana_franco  2022-04-04T01:44:01Z   449518       7   \n",
              "6694     matheus_santos  2022-02-22T01:22:40Z   630625      21   \n",
              "6695     matheus_santos  2022-02-22T01:08:32Z   374578       8   \n",
              "\n",
              "                                                  texto  \n",
              "0                                 www.comprasnet.gov.br  \n",
              "1     EXTRATO DE ADITIVO\\n3 Termo Aditivo ao Contrat...  \n",
              "2                                            19/07/2019  \n",
              "3                                00196-00000597/2019-70  \n",
              "4                                  QUARTO TERMO ADITIVO  \n",
              "...                                                 ...  \n",
              "6691                                  3o Termo\\nAditivo  \n",
              "6692                                           108/2019  \n",
              "6693                                            19/2017  \n",
              "6694                              BANCO DE BRASILIA S/A  \n",
              "6695                                           567/2016  \n",
              "\n",
              "[6696 rows x 13 columns]"
            ],
            "text/html": [
              "\n",
              "  <div id=\"df-a394f111-1935-4f38-97d4-90461e793a0e\">\n",
              "    <div class=\"colab-df-container\">\n",
              "      <div>\n",
              "<style scoped>\n",
              "    .dataframe tbody tr th:only-of-type {\n",
              "        vertical-align: middle;\n",
              "    }\n",
              "\n",
              "    .dataframe tbody tr th {\n",
              "        vertical-align: top;\n",
              "    }\n",
              "\n",
              "    .dataframe thead th {\n",
              "        text-align: right;\n",
              "    }\n",
              "</style>\n",
              "<table border=\"1\" class=\"dataframe\">\n",
              "  <thead>\n",
              "    <tr style=\"text-align: right;\">\n",
              "      <th></th>\n",
              "      <th>index</th>\n",
              "      <th>id_dodf</th>\n",
              "      <th>tipo_rel</th>\n",
              "      <th>id_rel</th>\n",
              "      <th>anotador_rel</th>\n",
              "      <th>timestamp_rel</th>\n",
              "      <th>tipo_ent</th>\n",
              "      <th>id_ent</th>\n",
              "      <th>anotador_ent</th>\n",
              "      <th>timestamp_ent</th>\n",
              "      <th>offset</th>\n",
              "      <th>length</th>\n",
              "      <th>texto</th>\n",
              "    </tr>\n",
              "  </thead>\n",
              "  <tbody>\n",
              "    <tr>\n",
              "      <th>0</th>\n",
              "      <td>0</td>\n",
              "      <td>1_31.5.2019</td>\n",
              "      <td>REL_AVISO_LICITACAO</td>\n",
              "      <td>R24</td>\n",
              "      <td>vinicius_borges</td>\n",
              "      <td>2022-04-06T12:59:59Z</td>\n",
              "      <td>sistema_compras</td>\n",
              "      <td>304</td>\n",
              "      <td>vinicius_borges</td>\n",
              "      <td>2022-04-06T12:59:27Z</td>\n",
              "      <td>1324565</td>\n",
              "      <td>21</td>\n",
              "      <td>www.comprasnet.gov.br</td>\n",
              "    </tr>\n",
              "    <tr>\n",
              "      <th>1</th>\n",
              "      <td>1</td>\n",
              "      <td>12_22.11.2018</td>\n",
              "      <td>REL_ADITAMENTO_CONTRATO</td>\n",
              "      <td>R15</td>\n",
              "      <td>micael_filipe</td>\n",
              "      <td>2022-04-03T11:46:36Z</td>\n",
              "      <td>EXTRATO_ADITAMENTO_CONTRATUAL</td>\n",
              "      <td>295</td>\n",
              "      <td>micael_filipe</td>\n",
              "      <td>2022-02-22T22:11:01Z</td>\n",
              "      <td>601406</td>\n",
              "      <td>518</td>\n",
              "      <td>EXTRATO DE ADITIVO\\n3 Termo Aditivo ao Contrat...</td>\n",
              "    </tr>\n",
              "    <tr>\n",
              "      <th>2</th>\n",
              "      <td>2</td>\n",
              "      <td>7_2.8.2019</td>\n",
              "      <td>REL_EXTRATO_CONTRATO</td>\n",
              "      <td>R2</td>\n",
              "      <td>alexandre_santana</td>\n",
              "      <td>2022-03-08T11:36:58Z</td>\n",
              "      <td>data_assinatura_contrato</td>\n",
              "      <td>83</td>\n",
              "      <td>alexandre_santana</td>\n",
              "      <td>2022-02-22T02:19:49Z</td>\n",
              "      <td>386367</td>\n",
              "      <td>10</td>\n",
              "      <td>19/07/2019</td>\n",
              "    </tr>\n",
              "    <tr>\n",
              "      <th>3</th>\n",
              "      <td>3</td>\n",
              "      <td>5_16.7.2019</td>\n",
              "      <td>REL_EXTRATO_CONTRATO</td>\n",
              "      <td>R4</td>\n",
              "      <td>alexandre_santana</td>\n",
              "      <td>2022-03-08T02:26:00Z</td>\n",
              "      <td>processo_gdf</td>\n",
              "      <td>61</td>\n",
              "      <td>alexandre_santana</td>\n",
              "      <td>2022-02-20T20:54:41Z</td>\n",
              "      <td>622794</td>\n",
              "      <td>22</td>\n",
              "      <td>00196-00000597/2019-70</td>\n",
              "    </tr>\n",
              "    <tr>\n",
              "      <th>4</th>\n",
              "      <td>4</td>\n",
              "      <td>24_29.1.2019</td>\n",
              "      <td>REL_ADITAMENTO_CONTRATO</td>\n",
              "      <td>R3</td>\n",
              "      <td>matheus_santos</td>\n",
              "      <td>2022-04-02T23:03:19Z</td>\n",
              "      <td>numero_termo_aditivo</td>\n",
              "      <td>17</td>\n",
              "      <td>matheus_santos</td>\n",
              "      <td>2022-02-19T01:19:03Z</td>\n",
              "      <td>451337</td>\n",
              "      <td>20</td>\n",
              "      <td>QUARTO TERMO ADITIVO</td>\n",
              "    </tr>\n",
              "    <tr>\n",
              "      <th>...</th>\n",
              "      <td>...</td>\n",
              "      <td>...</td>\n",
              "      <td>...</td>\n",
              "      <td>...</td>\n",
              "      <td>...</td>\n",
              "      <td>...</td>\n",
              "      <td>...</td>\n",
              "      <td>...</td>\n",
              "      <td>...</td>\n",
              "      <td>...</td>\n",
              "      <td>...</td>\n",
              "      <td>...</td>\n",
              "      <td>...</td>\n",
              "    </tr>\n",
              "    <tr>\n",
              "      <th>6691</th>\n",
              "      <td>6691</td>\n",
              "      <td>20_13.12.2019</td>\n",
              "      <td>REL_ADITAMENTO_CONTRATO</td>\n",
              "      <td>R31</td>\n",
              "      <td>matheus_santos</td>\n",
              "      <td>2022-04-02T20:10:59Z</td>\n",
              "      <td>numero_termo_aditivo</td>\n",
              "      <td>509</td>\n",
              "      <td>matheus_santos</td>\n",
              "      <td>2022-04-02T20:10:54Z</td>\n",
              "      <td>450291</td>\n",
              "      <td>16</td>\n",
              "      <td>3o Termo\\nAditivo</td>\n",
              "    </tr>\n",
              "    <tr>\n",
              "      <th>6692</th>\n",
              "      <td>6692</td>\n",
              "      <td>19_12.12.2019</td>\n",
              "      <td>REL_ADITAMENTO_CONTRATO</td>\n",
              "      <td>R2</td>\n",
              "      <td>matheus_santos</td>\n",
              "      <td>2022-03-30T20:37:52Z</td>\n",
              "      <td>numero_contrato</td>\n",
              "      <td>129</td>\n",
              "      <td>matheus_santos</td>\n",
              "      <td>2022-02-23T01:30:28Z</td>\n",
              "      <td>314043</td>\n",
              "      <td>8</td>\n",
              "      <td>108/2019</td>\n",
              "    </tr>\n",
              "    <tr>\n",
              "      <th>6693</th>\n",
              "      <td>6693</td>\n",
              "      <td>1_9.2.2018.1</td>\n",
              "      <td>REL_AVISO_LICITACAO</td>\n",
              "      <td>R19</td>\n",
              "      <td>tatiana_franco</td>\n",
              "      <td>2022-04-04T01:44:36Z</td>\n",
              "      <td>numero_licitacao</td>\n",
              "      <td>185</td>\n",
              "      <td>tatiana_franco</td>\n",
              "      <td>2022-04-04T01:44:01Z</td>\n",
              "      <td>449518</td>\n",
              "      <td>7</td>\n",
              "      <td>19/2017</td>\n",
              "    </tr>\n",
              "    <tr>\n",
              "      <th>6694</th>\n",
              "      <td>6694</td>\n",
              "      <td>16_29.11.2019</td>\n",
              "      <td>REL_ADITAMENTO_CONTRATO</td>\n",
              "      <td>R2</td>\n",
              "      <td>matheus_santos</td>\n",
              "      <td>2022-03-28T21:30:06Z</td>\n",
              "      <td>orgao_contratante</td>\n",
              "      <td>11</td>\n",
              "      <td>matheus_santos</td>\n",
              "      <td>2022-02-22T01:22:40Z</td>\n",
              "      <td>630625</td>\n",
              "      <td>21</td>\n",
              "      <td>BANCO DE BRASILIA S/A</td>\n",
              "    </tr>\n",
              "    <tr>\n",
              "      <th>6695</th>\n",
              "      <td>6695</td>\n",
              "      <td>12_16.1.2019</td>\n",
              "      <td>REL_ADITAMENTO_CONTRATO</td>\n",
              "      <td>R12</td>\n",
              "      <td>matheus_santos</td>\n",
              "      <td>2022-04-02T22:06:04Z</td>\n",
              "      <td>numero_contrato</td>\n",
              "      <td>120</td>\n",
              "      <td>matheus_santos</td>\n",
              "      <td>2022-02-22T01:08:32Z</td>\n",
              "      <td>374578</td>\n",
              "      <td>8</td>\n",
              "      <td>567/2016</td>\n",
              "    </tr>\n",
              "  </tbody>\n",
              "</table>\n",
              "<p>6696 rows × 13 columns</p>\n",
              "</div>\n",
              "      <button class=\"colab-df-convert\" onclick=\"convertToInteractive('df-a394f111-1935-4f38-97d4-90461e793a0e')\"\n",
              "              title=\"Convert this dataframe to an interactive table.\"\n",
              "              style=\"display:none;\">\n",
              "        \n",
              "  <svg xmlns=\"http://www.w3.org/2000/svg\" height=\"24px\"viewBox=\"0 0 24 24\"\n",
              "       width=\"24px\">\n",
              "    <path d=\"M0 0h24v24H0V0z\" fill=\"none\"/>\n",
              "    <path d=\"M18.56 5.44l.94 2.06.94-2.06 2.06-.94-2.06-.94-.94-2.06-.94 2.06-2.06.94zm-11 1L8.5 8.5l.94-2.06 2.06-.94-2.06-.94L8.5 2.5l-.94 2.06-2.06.94zm10 10l.94 2.06.94-2.06 2.06-.94-2.06-.94-.94-2.06-.94 2.06-2.06.94z\"/><path d=\"M17.41 7.96l-1.37-1.37c-.4-.4-.92-.59-1.43-.59-.52 0-1.04.2-1.43.59L10.3 9.45l-7.72 7.72c-.78.78-.78 2.05 0 2.83L4 21.41c.39.39.9.59 1.41.59.51 0 1.02-.2 1.41-.59l7.78-7.78 2.81-2.81c.8-.78.8-2.07 0-2.86zM5.41 20L4 18.59l7.72-7.72 1.47 1.35L5.41 20z\"/>\n",
              "  </svg>\n",
              "      </button>\n",
              "      \n",
              "  <style>\n",
              "    .colab-df-container {\n",
              "      display:flex;\n",
              "      flex-wrap:wrap;\n",
              "      gap: 12px;\n",
              "    }\n",
              "\n",
              "    .colab-df-convert {\n",
              "      background-color: #E8F0FE;\n",
              "      border: none;\n",
              "      border-radius: 50%;\n",
              "      cursor: pointer;\n",
              "      display: none;\n",
              "      fill: #1967D2;\n",
              "      height: 32px;\n",
              "      padding: 0 0 0 0;\n",
              "      width: 32px;\n",
              "    }\n",
              "\n",
              "    .colab-df-convert:hover {\n",
              "      background-color: #E2EBFA;\n",
              "      box-shadow: 0px 1px 2px rgba(60, 64, 67, 0.3), 0px 1px 3px 1px rgba(60, 64, 67, 0.15);\n",
              "      fill: #174EA6;\n",
              "    }\n",
              "\n",
              "    [theme=dark] .colab-df-convert {\n",
              "      background-color: #3B4455;\n",
              "      fill: #D2E3FC;\n",
              "    }\n",
              "\n",
              "    [theme=dark] .colab-df-convert:hover {\n",
              "      background-color: #434B5C;\n",
              "      box-shadow: 0px 1px 3px 1px rgba(0, 0, 0, 0.15);\n",
              "      filter: drop-shadow(0px 1px 2px rgba(0, 0, 0, 0.3));\n",
              "      fill: #FFFFFF;\n",
              "    }\n",
              "  </style>\n",
              "\n",
              "      <script>\n",
              "        const buttonEl =\n",
              "          document.querySelector('#df-a394f111-1935-4f38-97d4-90461e793a0e button.colab-df-convert');\n",
              "        buttonEl.style.display =\n",
              "          google.colab.kernel.accessAllowed ? 'block' : 'none';\n",
              "\n",
              "        async function convertToInteractive(key) {\n",
              "          const element = document.querySelector('#df-a394f111-1935-4f38-97d4-90461e793a0e');\n",
              "          const dataTable =\n",
              "            await google.colab.kernel.invokeFunction('convertToInteractive',\n",
              "                                                     [key], {});\n",
              "          if (!dataTable) return;\n",
              "\n",
              "          const docLinkHtml = 'Like what you see? Visit the ' +\n",
              "            '<a target=\"_blank\" href=https://colab.research.google.com/notebooks/data_table.ipynb>data table notebook</a>'\n",
              "            + ' to learn more about interactive tables.';\n",
              "          element.innerHTML = '';\n",
              "          dataTable['output_type'] = 'display_data';\n",
              "          await google.colab.output.renderOutput(dataTable, element);\n",
              "          const docLink = document.createElement('div');\n",
              "          docLink.innerHTML = docLinkHtml;\n",
              "          element.appendChild(docLink);\n",
              "        }\n",
              "      </script>\n",
              "    </div>\n",
              "  </div>\n",
              "  "
            ]
          },
          "metadata": {},
          "execution_count": 529
        }
      ],
      "source": [
        "import pandas as pd\n",
        "import numpy as np\n",
        "import io\n",
        "from sklearn.utils import shuffle\n",
        "\n",
        "# Adicionando em dataframe\n",
        "raw_df = pd.read_csv(io.BytesIO(uploaded['contratos.csv']))\n",
        "raw_df = raw_df.replace([np.inf, -np.inf], np.nan)\n",
        "raw_df = raw_df.sample(frac=1).reset_index(drop=True)\n",
        "raw_df = raw_df.reset_index()\n",
        "\n",
        "raw_df"
      ]
    },
    {
      "cell_type": "markdown",
      "source": [
        "# Limpando para classificar apenas algumas entidades 🧹\n",
        "\n",
        "Ou seja, apenas: *extrato de contrato, extrato de convênio, aditamento de extrato de contrato, aviso de licitação, aviso de suspensão de licitação, aviso de revogação/anulação de licitação.* "
      ],
      "metadata": {
        "id": "NqmQrYuxhcmT"
      }
    },
    {
      "cell_type": "code",
      "source": [
        "# retorna dataframe com apenas as entidades passadas no argumento\n",
        "def filter_rows_by_values(df, col, values):\n",
        "    return df[df[col].isin(values)]\n",
        "\n",
        "# extrato de contrato -> EXTRATO_CONTRATO\n",
        "# extrato de convênio -> EXTRATO_CONVENIO\n",
        "# aditamento de extrato de contrato -> EXTRATO_ADITAMENTO_CONTRATUAL\n",
        "# aviso de licitação -> AVISO_LICITACAO\n",
        "# aviso de suspensão de licitação -> AVISO_SUSPENSAO_LICITACAO\n",
        "# aviso de revogação/anulação de licitação -> AVISO_ANUL_REV_LICITACAO\n",
        "\n",
        "\n",
        "df = filter_rows_by_values(raw_df, \"tipo_ent\", [\"EXTRATO_CONTRATO\", \n",
        "                                                \"EXTRATO_CONVENIO\",\n",
        "                                                \"EXTRATO_ADITAMENTO_CONTRATUAL\",\n",
        "                                                \"AVISO_LICITACAO\",\n",
        "                                                \"AVISO_SUSPENSAO_LICITACAO\",\n",
        "                                                \"AVISO_ANUL_REV_LICITACAO\"])\n",
        "\n",
        "df\n"
      ],
      "metadata": {
        "colab": {
          "base_uri": "https://localhost:8080/",
          "height": 728
        },
        "id": "ttBD7DRlh8A1",
        "outputId": "197c1e54-598c-401a-8bdd-b86c6cbb84fe"
      },
      "execution_count": 530,
      "outputs": [
        {
          "output_type": "execute_result",
          "data": {
            "text/plain": [
              "      index            id_dodf                  tipo_rel id_rel  \\\n",
              "1         1      12_22.11.2018   REL_ADITAMENTO_CONTRATO    R15   \n",
              "12       12  211_193.9.10.2019   REL_ADITAMENTO_CONTRATO     R7   \n",
              "23       23        5_16.7.2019   REL_ADITAMENTO_CONTRATO    R12   \n",
              "30       30      12_22.11.2018  REL_ANUL_REVOG_LICITACAO     R9   \n",
              "39       39        5_21.5.2019   REL_ADITAMENTO_CONTRATO    R30   \n",
              "...     ...                ...                       ...    ...   \n",
              "6647   6647  211_193.9.10.2019       REL_AVISO_LICITACAO    R16   \n",
              "6651   6651         7_2.8.2019       REL_AVISO_LICITACAO    R22   \n",
              "6658   6658      16_29.11.2019       REL_AVISO_LICITACAO    R19   \n",
              "6659   6659        2_25.2.2019      REL_EXTRATO_CONTRATO     R4   \n",
              "6688   6688      25_27.12.2018   REL_ADITAMENTO_CONTRATO     R5   \n",
              "\n",
              "           anotador_rel         timestamp_rel                       tipo_ent  \\\n",
              "1         micael_filipe  2022-04-03T11:46:36Z  EXTRATO_ADITAMENTO_CONTRATUAL   \n",
              "12       matheus_santos  2022-04-02T23:00:10Z  EXTRATO_ADITAMENTO_CONTRATUAL   \n",
              "23        micael_filipe  2022-04-03T12:11:50Z  EXTRATO_ADITAMENTO_CONTRATUAL   \n",
              "30          lucas_sousa  2022-03-24T13:12:10Z      AVISO_SUSPENSAO_LICITACAO   \n",
              "39        micael_filipe  2022-04-03T11:04:56Z  EXTRATO_ADITAMENTO_CONTRATUAL   \n",
              "...                 ...                   ...                            ...   \n",
              "6647       carla_araujo  2022-04-04T01:12:02Z                AVISO_LICITACAO   \n",
              "6651     antonio_carlos  2022-04-03T13:05:42Z                AVISO_LICITACAO   \n",
              "6658     antonio_carlos  2022-04-03T16:25:31Z                AVISO_LICITACAO   \n",
              "6659  alexandre_santana  2022-03-08T00:46:31Z               EXTRATO_CONTRATO   \n",
              "6688     matheus_santos  2022-04-02T23:01:22Z  EXTRATO_ADITAMENTO_CONTRATUAL   \n",
              "\n",
              "      id_ent       anotador_ent         timestamp_ent  offset  length  \\\n",
              "1        295      micael_filipe  2022-02-22T22:11:01Z  601406     518   \n",
              "12       234     matheus_santos  2022-04-02T22:59:51Z  654890    4930   \n",
              "23       195      micael_filipe  2022-04-03T12:11:46Z  454335     836   \n",
              "30       470        lucas_sousa  2022-03-24T13:12:00Z  530019     510   \n",
              "39       403      micael_filipe  2022-04-03T11:04:25Z  376702     437   \n",
              "...      ...                ...                   ...     ...     ...   \n",
              "6647     283       carla_araujo  2022-04-04T01:11:57Z  648679     863   \n",
              "6651      11     antonio_carlos  2022-02-21T18:37:04Z  390033     841   \n",
              "6658     396     antonio_carlos  2022-04-03T16:25:24Z  729101     601   \n",
              "6659     139  alexandre_santana  2022-03-08T00:46:27Z  346995     726   \n",
              "6688     223     matheus_santos  2022-03-04T01:57:14Z  794956     998   \n",
              "\n",
              "                                                  texto  \n",
              "1     EXTRATO DE ADITIVO\\n3 Termo Aditivo ao Contrat...  \n",
              "12    EXTRATO DO PRIMEIRO TERMO ADITIVO DO CONTRATO ...  \n",
              "23    EXTRATO DE TERMO ADITIVO DO CONTRATO BRB No BR...  \n",
              "30    AVISO DE SUSPENSAO\\nCONCORRENCIA No 02/2018\\nO...  \n",
              "39    Especie: Segundo Termo Aditivo ao Contrato no ...  \n",
              "...                                                 ...  \n",
              "6647  AVISO DE LICITACAO\\nPREGAO ELETRONICO PE No 24...  \n",
              "6651  AVISO DE ABERTURA\\nPREGAO ELETRONICO POR SRP N...  \n",
              "6658  AVISO DE LICITACAO\\nLIC ALIENACAO CEB-DIS No 0...  \n",
              "6659  EXTRATO DO CONTRATO No 09/2019\\nAQUISICAO DE B...  \n",
              "6688  EXTRATO DO PRIMEIRO ADITIVO AO TERMO DE OUTORG...  \n",
              "\n",
              "[726 rows x 13 columns]"
            ],
            "text/html": [
              "\n",
              "  <div id=\"df-c4bc99d9-e6eb-44ed-a1e0-cdf7083b2413\">\n",
              "    <div class=\"colab-df-container\">\n",
              "      <div>\n",
              "<style scoped>\n",
              "    .dataframe tbody tr th:only-of-type {\n",
              "        vertical-align: middle;\n",
              "    }\n",
              "\n",
              "    .dataframe tbody tr th {\n",
              "        vertical-align: top;\n",
              "    }\n",
              "\n",
              "    .dataframe thead th {\n",
              "        text-align: right;\n",
              "    }\n",
              "</style>\n",
              "<table border=\"1\" class=\"dataframe\">\n",
              "  <thead>\n",
              "    <tr style=\"text-align: right;\">\n",
              "      <th></th>\n",
              "      <th>index</th>\n",
              "      <th>id_dodf</th>\n",
              "      <th>tipo_rel</th>\n",
              "      <th>id_rel</th>\n",
              "      <th>anotador_rel</th>\n",
              "      <th>timestamp_rel</th>\n",
              "      <th>tipo_ent</th>\n",
              "      <th>id_ent</th>\n",
              "      <th>anotador_ent</th>\n",
              "      <th>timestamp_ent</th>\n",
              "      <th>offset</th>\n",
              "      <th>length</th>\n",
              "      <th>texto</th>\n",
              "    </tr>\n",
              "  </thead>\n",
              "  <tbody>\n",
              "    <tr>\n",
              "      <th>1</th>\n",
              "      <td>1</td>\n",
              "      <td>12_22.11.2018</td>\n",
              "      <td>REL_ADITAMENTO_CONTRATO</td>\n",
              "      <td>R15</td>\n",
              "      <td>micael_filipe</td>\n",
              "      <td>2022-04-03T11:46:36Z</td>\n",
              "      <td>EXTRATO_ADITAMENTO_CONTRATUAL</td>\n",
              "      <td>295</td>\n",
              "      <td>micael_filipe</td>\n",
              "      <td>2022-02-22T22:11:01Z</td>\n",
              "      <td>601406</td>\n",
              "      <td>518</td>\n",
              "      <td>EXTRATO DE ADITIVO\\n3 Termo Aditivo ao Contrat...</td>\n",
              "    </tr>\n",
              "    <tr>\n",
              "      <th>12</th>\n",
              "      <td>12</td>\n",
              "      <td>211_193.9.10.2019</td>\n",
              "      <td>REL_ADITAMENTO_CONTRATO</td>\n",
              "      <td>R7</td>\n",
              "      <td>matheus_santos</td>\n",
              "      <td>2022-04-02T23:00:10Z</td>\n",
              "      <td>EXTRATO_ADITAMENTO_CONTRATUAL</td>\n",
              "      <td>234</td>\n",
              "      <td>matheus_santos</td>\n",
              "      <td>2022-04-02T22:59:51Z</td>\n",
              "      <td>654890</td>\n",
              "      <td>4930</td>\n",
              "      <td>EXTRATO DO PRIMEIRO TERMO ADITIVO DO CONTRATO ...</td>\n",
              "    </tr>\n",
              "    <tr>\n",
              "      <th>23</th>\n",
              "      <td>23</td>\n",
              "      <td>5_16.7.2019</td>\n",
              "      <td>REL_ADITAMENTO_CONTRATO</td>\n",
              "      <td>R12</td>\n",
              "      <td>micael_filipe</td>\n",
              "      <td>2022-04-03T12:11:50Z</td>\n",
              "      <td>EXTRATO_ADITAMENTO_CONTRATUAL</td>\n",
              "      <td>195</td>\n",
              "      <td>micael_filipe</td>\n",
              "      <td>2022-04-03T12:11:46Z</td>\n",
              "      <td>454335</td>\n",
              "      <td>836</td>\n",
              "      <td>EXTRATO DE TERMO ADITIVO DO CONTRATO BRB No BR...</td>\n",
              "    </tr>\n",
              "    <tr>\n",
              "      <th>30</th>\n",
              "      <td>30</td>\n",
              "      <td>12_22.11.2018</td>\n",
              "      <td>REL_ANUL_REVOG_LICITACAO</td>\n",
              "      <td>R9</td>\n",
              "      <td>lucas_sousa</td>\n",
              "      <td>2022-03-24T13:12:10Z</td>\n",
              "      <td>AVISO_SUSPENSAO_LICITACAO</td>\n",
              "      <td>470</td>\n",
              "      <td>lucas_sousa</td>\n",
              "      <td>2022-03-24T13:12:00Z</td>\n",
              "      <td>530019</td>\n",
              "      <td>510</td>\n",
              "      <td>AVISO DE SUSPENSAO\\nCONCORRENCIA No 02/2018\\nO...</td>\n",
              "    </tr>\n",
              "    <tr>\n",
              "      <th>39</th>\n",
              "      <td>39</td>\n",
              "      <td>5_21.5.2019</td>\n",
              "      <td>REL_ADITAMENTO_CONTRATO</td>\n",
              "      <td>R30</td>\n",
              "      <td>micael_filipe</td>\n",
              "      <td>2022-04-03T11:04:56Z</td>\n",
              "      <td>EXTRATO_ADITAMENTO_CONTRATUAL</td>\n",
              "      <td>403</td>\n",
              "      <td>micael_filipe</td>\n",
              "      <td>2022-04-03T11:04:25Z</td>\n",
              "      <td>376702</td>\n",
              "      <td>437</td>\n",
              "      <td>Especie: Segundo Termo Aditivo ao Contrato no ...</td>\n",
              "    </tr>\n",
              "    <tr>\n",
              "      <th>...</th>\n",
              "      <td>...</td>\n",
              "      <td>...</td>\n",
              "      <td>...</td>\n",
              "      <td>...</td>\n",
              "      <td>...</td>\n",
              "      <td>...</td>\n",
              "      <td>...</td>\n",
              "      <td>...</td>\n",
              "      <td>...</td>\n",
              "      <td>...</td>\n",
              "      <td>...</td>\n",
              "      <td>...</td>\n",
              "      <td>...</td>\n",
              "    </tr>\n",
              "    <tr>\n",
              "      <th>6647</th>\n",
              "      <td>6647</td>\n",
              "      <td>211_193.9.10.2019</td>\n",
              "      <td>REL_AVISO_LICITACAO</td>\n",
              "      <td>R16</td>\n",
              "      <td>carla_araujo</td>\n",
              "      <td>2022-04-04T01:12:02Z</td>\n",
              "      <td>AVISO_LICITACAO</td>\n",
              "      <td>283</td>\n",
              "      <td>carla_araujo</td>\n",
              "      <td>2022-04-04T01:11:57Z</td>\n",
              "      <td>648679</td>\n",
              "      <td>863</td>\n",
              "      <td>AVISO DE LICITACAO\\nPREGAO ELETRONICO PE No 24...</td>\n",
              "    </tr>\n",
              "    <tr>\n",
              "      <th>6651</th>\n",
              "      <td>6651</td>\n",
              "      <td>7_2.8.2019</td>\n",
              "      <td>REL_AVISO_LICITACAO</td>\n",
              "      <td>R22</td>\n",
              "      <td>antonio_carlos</td>\n",
              "      <td>2022-04-03T13:05:42Z</td>\n",
              "      <td>AVISO_LICITACAO</td>\n",
              "      <td>11</td>\n",
              "      <td>antonio_carlos</td>\n",
              "      <td>2022-02-21T18:37:04Z</td>\n",
              "      <td>390033</td>\n",
              "      <td>841</td>\n",
              "      <td>AVISO DE ABERTURA\\nPREGAO ELETRONICO POR SRP N...</td>\n",
              "    </tr>\n",
              "    <tr>\n",
              "      <th>6658</th>\n",
              "      <td>6658</td>\n",
              "      <td>16_29.11.2019</td>\n",
              "      <td>REL_AVISO_LICITACAO</td>\n",
              "      <td>R19</td>\n",
              "      <td>antonio_carlos</td>\n",
              "      <td>2022-04-03T16:25:31Z</td>\n",
              "      <td>AVISO_LICITACAO</td>\n",
              "      <td>396</td>\n",
              "      <td>antonio_carlos</td>\n",
              "      <td>2022-04-03T16:25:24Z</td>\n",
              "      <td>729101</td>\n",
              "      <td>601</td>\n",
              "      <td>AVISO DE LICITACAO\\nLIC ALIENACAO CEB-DIS No 0...</td>\n",
              "    </tr>\n",
              "    <tr>\n",
              "      <th>6659</th>\n",
              "      <td>6659</td>\n",
              "      <td>2_25.2.2019</td>\n",
              "      <td>REL_EXTRATO_CONTRATO</td>\n",
              "      <td>R4</td>\n",
              "      <td>alexandre_santana</td>\n",
              "      <td>2022-03-08T00:46:31Z</td>\n",
              "      <td>EXTRATO_CONTRATO</td>\n",
              "      <td>139</td>\n",
              "      <td>alexandre_santana</td>\n",
              "      <td>2022-03-08T00:46:27Z</td>\n",
              "      <td>346995</td>\n",
              "      <td>726</td>\n",
              "      <td>EXTRATO DO CONTRATO No 09/2019\\nAQUISICAO DE B...</td>\n",
              "    </tr>\n",
              "    <tr>\n",
              "      <th>6688</th>\n",
              "      <td>6688</td>\n",
              "      <td>25_27.12.2018</td>\n",
              "      <td>REL_ADITAMENTO_CONTRATO</td>\n",
              "      <td>R5</td>\n",
              "      <td>matheus_santos</td>\n",
              "      <td>2022-04-02T23:01:22Z</td>\n",
              "      <td>EXTRATO_ADITAMENTO_CONTRATUAL</td>\n",
              "      <td>223</td>\n",
              "      <td>matheus_santos</td>\n",
              "      <td>2022-03-04T01:57:14Z</td>\n",
              "      <td>794956</td>\n",
              "      <td>998</td>\n",
              "      <td>EXTRATO DO PRIMEIRO ADITIVO AO TERMO DE OUTORG...</td>\n",
              "    </tr>\n",
              "  </tbody>\n",
              "</table>\n",
              "<p>726 rows × 13 columns</p>\n",
              "</div>\n",
              "      <button class=\"colab-df-convert\" onclick=\"convertToInteractive('df-c4bc99d9-e6eb-44ed-a1e0-cdf7083b2413')\"\n",
              "              title=\"Convert this dataframe to an interactive table.\"\n",
              "              style=\"display:none;\">\n",
              "        \n",
              "  <svg xmlns=\"http://www.w3.org/2000/svg\" height=\"24px\"viewBox=\"0 0 24 24\"\n",
              "       width=\"24px\">\n",
              "    <path d=\"M0 0h24v24H0V0z\" fill=\"none\"/>\n",
              "    <path d=\"M18.56 5.44l.94 2.06.94-2.06 2.06-.94-2.06-.94-.94-2.06-.94 2.06-2.06.94zm-11 1L8.5 8.5l.94-2.06 2.06-.94-2.06-.94L8.5 2.5l-.94 2.06-2.06.94zm10 10l.94 2.06.94-2.06 2.06-.94-2.06-.94-.94-2.06-.94 2.06-2.06.94z\"/><path d=\"M17.41 7.96l-1.37-1.37c-.4-.4-.92-.59-1.43-.59-.52 0-1.04.2-1.43.59L10.3 9.45l-7.72 7.72c-.78.78-.78 2.05 0 2.83L4 21.41c.39.39.9.59 1.41.59.51 0 1.02-.2 1.41-.59l7.78-7.78 2.81-2.81c.8-.78.8-2.07 0-2.86zM5.41 20L4 18.59l7.72-7.72 1.47 1.35L5.41 20z\"/>\n",
              "  </svg>\n",
              "      </button>\n",
              "      \n",
              "  <style>\n",
              "    .colab-df-container {\n",
              "      display:flex;\n",
              "      flex-wrap:wrap;\n",
              "      gap: 12px;\n",
              "    }\n",
              "\n",
              "    .colab-df-convert {\n",
              "      background-color: #E8F0FE;\n",
              "      border: none;\n",
              "      border-radius: 50%;\n",
              "      cursor: pointer;\n",
              "      display: none;\n",
              "      fill: #1967D2;\n",
              "      height: 32px;\n",
              "      padding: 0 0 0 0;\n",
              "      width: 32px;\n",
              "    }\n",
              "\n",
              "    .colab-df-convert:hover {\n",
              "      background-color: #E2EBFA;\n",
              "      box-shadow: 0px 1px 2px rgba(60, 64, 67, 0.3), 0px 1px 3px 1px rgba(60, 64, 67, 0.15);\n",
              "      fill: #174EA6;\n",
              "    }\n",
              "\n",
              "    [theme=dark] .colab-df-convert {\n",
              "      background-color: #3B4455;\n",
              "      fill: #D2E3FC;\n",
              "    }\n",
              "\n",
              "    [theme=dark] .colab-df-convert:hover {\n",
              "      background-color: #434B5C;\n",
              "      box-shadow: 0px 1px 3px 1px rgba(0, 0, 0, 0.15);\n",
              "      filter: drop-shadow(0px 1px 2px rgba(0, 0, 0, 0.3));\n",
              "      fill: #FFFFFF;\n",
              "    }\n",
              "  </style>\n",
              "\n",
              "      <script>\n",
              "        const buttonEl =\n",
              "          document.querySelector('#df-c4bc99d9-e6eb-44ed-a1e0-cdf7083b2413 button.colab-df-convert');\n",
              "        buttonEl.style.display =\n",
              "          google.colab.kernel.accessAllowed ? 'block' : 'none';\n",
              "\n",
              "        async function convertToInteractive(key) {\n",
              "          const element = document.querySelector('#df-c4bc99d9-e6eb-44ed-a1e0-cdf7083b2413');\n",
              "          const dataTable =\n",
              "            await google.colab.kernel.invokeFunction('convertToInteractive',\n",
              "                                                     [key], {});\n",
              "          if (!dataTable) return;\n",
              "\n",
              "          const docLinkHtml = 'Like what you see? Visit the ' +\n",
              "            '<a target=\"_blank\" href=https://colab.research.google.com/notebooks/data_table.ipynb>data table notebook</a>'\n",
              "            + ' to learn more about interactive tables.';\n",
              "          element.innerHTML = '';\n",
              "          dataTable['output_type'] = 'display_data';\n",
              "          await google.colab.output.renderOutput(dataTable, element);\n",
              "          const docLink = document.createElement('div');\n",
              "          docLink.innerHTML = docLinkHtml;\n",
              "          element.appendChild(docLink);\n",
              "        }\n",
              "      </script>\n",
              "    </div>\n",
              "  </div>\n",
              "  "
            ]
          },
          "metadata": {},
          "execution_count": 530
        }
      ]
    },
    {
      "cell_type": "markdown",
      "metadata": {
        "id": "hwlAsa6Bs91x"
      },
      "source": [
        "### Nem sempre é necessária a limpeza total dos dados! 😕\n",
        "\n",
        "#### [\"Aqui entidades numéricas, capitalização e pontuação podem ser importantes. Por isso, pensando em uma tarefa de classificação, faz sentido não adotar alguns dos passos de pré-processamento que normalmente são feitos.\"](https://colab.research.google.com/drive/1zjcTnNNLlbM3BH3zEAAnQSJjlUmTP8K2?usp=sharing#scrollTo=XP3U0XWKsmSf://)"
      ]
    },
    {
      "cell_type": "code",
      "source": [
        "# classificação em inteiro\n",
        "\n",
        "# EXTRATO_CONTRATO = 0\n",
        "# EXTRATO_CONVENIO = 1\n",
        "# EXTRATO_ADITAMENTO_CONTRATUAL = 2\n",
        "# AVISO_LICITACAO = 3\n",
        "# AVISO_SUSPENSAO_LICITACAO = 4\n",
        "# AVISO_ANUL_REV_LICITACAO = 5\n",
        "\n",
        "df=df.replace(to_replace=\"EXTRATO_CONTRATO\",value=\"0\")\n",
        "df=df.replace(to_replace=\"EXTRATO_CONVENIO\",value=\"1\")\n",
        "df=df.replace(to_replace=\"EXTRATO_ADITAMENTO_CONTRATUAL\",value=\"2\")\n",
        "df=df.replace(to_replace=\"AVISO_LICITACAO\",value=\"3\")\n",
        "df=df.replace(to_replace=\"AVISO_SUSPENSAO_LICITACAO\",value=\"4\")\n",
        "df=df.replace(to_replace=\"AVISO_ANUL_REV_LICITACAO\",value=\"5\")\n"
      ],
      "metadata": {
        "id": "ynzCaxKjpH0v"
      },
      "execution_count": 531,
      "outputs": []
    },
    {
      "cell_type": "code",
      "execution_count": 532,
      "metadata": {
        "colab": {
          "base_uri": "https://localhost:8080/"
        },
        "id": "oA0glaFzJLjl",
        "outputId": "ab7ffe74-d042-4a63-fa05-3222ba8dbfd1"
      },
      "outputs": [
        {
          "output_type": "stream",
          "name": "stdout",
          "text": [
            "6\n",
            "580\n"
          ]
        }
      ],
      "source": [
        "# 80% vai ser treino, 20% vai ser teste\n",
        "# 0.8 * 726 = 580\n",
        "# até o índice 580 vai ser treino, depois disso é teste\n",
        "\n",
        "# é o dado\n",
        "x = df.filter(['texto'])\n",
        "\n",
        "x_train_raw = x.iloc[:580] \n",
        "x_test_raw = x.iloc[580:]  \n",
        "\n",
        "# é o resultado do dado\n",
        "y = df.filter(['tipo_ent'])\n",
        "\n",
        "y_train_raw = y.iloc[:580]\n",
        "y_test_raw = y.iloc[580:]\n",
        "\n",
        "\n",
        "# preciso transformar o texto num numero\n",
        "\n",
        "frases = df.filter(['texto'])\n",
        "\n",
        "valores_distintos = y_train_raw['tipo_ent'].nunique() \n",
        "valores_distintos_nao_nulos = y_train_raw['tipo_ent'].count()\n",
        "\n",
        "print(valores_distintos)              # entidades possíveis\n",
        "print(valores_distintos_nao_nulos)    # repetições\n"
      ]
    },
    {
      "cell_type": "markdown",
      "metadata": {
        "id": "hQLcoTHWu4iH"
      },
      "source": [
        "### Conversão para \"one-hot codes\" 🔥"
      ]
    },
    {
      "cell_type": "code",
      "execution_count": 533,
      "metadata": {
        "colab": {
          "base_uri": "https://localhost:8080/"
        },
        "id": "zPqSdROyTVas",
        "outputId": "d29616b9-36a1-469e-9a1b-cb87303ed806"
      },
      "outputs": [
        {
          "output_type": "stream",
          "name": "stdout",
          "text": [
            "[0. 0. 1. 0. 0. 0.]\n"
          ]
        }
      ],
      "source": [
        "from tensorflow import keras\n",
        "\n",
        "# conversão para \"one-hot codes\"\n",
        "\n",
        "# to_categorical -> vai de 0 até \"valores_distintos - 1\" como uma possibilidade\n",
        "# esses dados começam em 1, vou subtrair 1 de tudo, para 0 virar uma categoria\n",
        "\n",
        "y_train = keras.utils.to_categorical(y_train_raw, valores_distintos)\n",
        "y_test = keras.utils.to_categorical(y_test_raw, valores_distintos)\n",
        "\n",
        "print(y_train[0])\n"
      ]
    },
    {
      "cell_type": "markdown",
      "metadata": {
        "id": "J9kwEOj9wuF3"
      },
      "source": [
        "### Testarei inicialmente a stemnminzação, retirada de acentos (para garantir) e a retirada de stopwords da parte do texto. Na retirada de stopwords, não contarei com a retirada de \"\\n\"."
      ]
    },
    {
      "cell_type": "code",
      "execution_count": 534,
      "metadata": {
        "colab": {
          "base_uri": "https://localhost:8080/"
        },
        "id": "lKLv6QUGypUr",
        "outputId": "6c22be85-77ae-4f7f-f45e-1f0b069805a4"
      },
      "outputs": [
        {
          "output_type": "stream",
          "name": "stdout",
          "text": [
            "Requirement already satisfied: unidecode in /usr/local/lib/python3.7/dist-packages (1.3.4)\n"
          ]
        }
      ],
      "source": [
        "!pip install unidecode\n",
        "import unidecode"
      ]
    },
    {
      "cell_type": "code",
      "execution_count": 535,
      "metadata": {
        "colab": {
          "base_uri": "https://localhost:8080/"
        },
        "id": "SAluFrwjwvl0",
        "outputId": "61fbbd1c-9542-48a1-d757-887345f97d59"
      },
      "outputs": [
        {
          "output_type": "stream",
          "name": "stderr",
          "text": [
            "/usr/local/lib/python3.7/dist-packages/ipykernel_launcher.py:4: SettingWithCopyWarning: \n",
            "A value is trying to be set on a copy of a slice from a DataFrame.\n",
            "Try using .loc[row_indexer,col_indexer] = value instead\n",
            "\n",
            "See the caveats in the documentation: https://pandas.pydata.org/pandas-docs/stable/user_guide/indexing.html#returning-a-view-versus-a-copy\n",
            "  after removing the cwd from sys.path.\n",
            "/usr/local/lib/python3.7/dist-packages/ipykernel_launcher.py:5: SettingWithCopyWarning: \n",
            "A value is trying to be set on a copy of a slice from a DataFrame.\n",
            "Try using .loc[row_indexer,col_indexer] = value instead\n",
            "\n",
            "See the caveats in the documentation: https://pandas.pydata.org/pandas-docs/stable/user_guide/indexing.html#returning-a-view-versus-a-copy\n",
            "  \"\"\"\n"
          ]
        }
      ],
      "source": [
        "# retirada de acentos\n",
        "\n",
        "frases['texto'] = frases['texto'].apply(lambda x: ' '.join([unidecode.unidecode(termo) for termo in x.split()]))\n",
        "x_train_raw['texto'] = x_train_raw['texto'].apply(lambda x: ' '.join([unidecode.unidecode(termo) for termo in x.split()]))\n",
        "x_test_raw['texto'] = x_test_raw['texto'].apply(lambda x: ' '.join([unidecode.unidecode(termo) for termo in x.split()]))"
      ]
    },
    {
      "cell_type": "code",
      "execution_count": 536,
      "metadata": {
        "colab": {
          "base_uri": "https://localhost:8080/"
        },
        "id": "XRu84WZizVGf",
        "outputId": "73d59f4e-9423-4c7b-d0f8-c70c71ef32ac"
      },
      "outputs": [
        {
          "output_type": "stream",
          "name": "stdout",
          "text": [
            "[nltk_data] Downloading package stopwords to /root/nltk_data...\n",
            "[nltk_data]   Package stopwords is already up-to-date!\n"
          ]
        }
      ],
      "source": [
        "import nltk\n",
        "nltk.download('stopwords')\n",
        "stopwords = nltk.corpus.stopwords.words('portuguese')"
      ]
    },
    {
      "cell_type": "code",
      "execution_count": 537,
      "metadata": {
        "colab": {
          "base_uri": "https://localhost:8080/"
        },
        "id": "721eG7ALzYWd",
        "outputId": "6431cf6e-7e11-4423-dfcb-16adac3f39a4"
      },
      "outputs": [
        {
          "output_type": "stream",
          "name": "stderr",
          "text": [
            "/usr/local/lib/python3.7/dist-packages/ipykernel_launcher.py:4: SettingWithCopyWarning: \n",
            "A value is trying to be set on a copy of a slice from a DataFrame.\n",
            "Try using .loc[row_indexer,col_indexer] = value instead\n",
            "\n",
            "See the caveats in the documentation: https://pandas.pydata.org/pandas-docs/stable/user_guide/indexing.html#returning-a-view-versus-a-copy\n",
            "  after removing the cwd from sys.path.\n",
            "/usr/local/lib/python3.7/dist-packages/ipykernel_launcher.py:5: SettingWithCopyWarning: \n",
            "A value is trying to be set on a copy of a slice from a DataFrame.\n",
            "Try using .loc[row_indexer,col_indexer] = value instead\n",
            "\n",
            "See the caveats in the documentation: https://pandas.pydata.org/pandas-docs/stable/user_guide/indexing.html#returning-a-view-versus-a-copy\n",
            "  \"\"\"\n"
          ]
        }
      ],
      "source": [
        "# retirada de stopwords\n",
        "\n",
        "frases['texto'] = frases['texto'].apply(lambda x: ' '.join([termo for termo in x.split() if termo not in stopwords]))\n",
        "x_train_raw['texto'] = x_train_raw['texto'].apply(lambda x: ' '.join([termo for termo in x.split() if termo not in stopwords]))\n",
        "x_test_raw['texto'] = x_test_raw['texto'].apply(lambda x: ' '.join([termo for termo in x.split() if termo not in stopwords]))"
      ]
    },
    {
      "cell_type": "code",
      "execution_count": 538,
      "metadata": {
        "colab": {
          "base_uri": "https://localhost:8080/"
        },
        "id": "AcO9twwHz71K",
        "outputId": "68aef2cf-9f11-483b-dd5e-71c7d6e126bb"
      },
      "outputs": [
        {
          "output_type": "stream",
          "name": "stdout",
          "text": [
            "[nltk_data] Downloading package rslp to /root/nltk_data...\n",
            "[nltk_data]   Package rslp is already up-to-date!\n"
          ]
        }
      ],
      "source": [
        "nltk.download('rslp')\n",
        "stemmer = nltk.stem.RSLPStemmer()"
      ]
    },
    {
      "cell_type": "code",
      "execution_count": 539,
      "metadata": {
        "colab": {
          "base_uri": "https://localhost:8080/"
        },
        "id": "ehhfyxkMz_Mf",
        "outputId": "5be23bb1-224b-4391-cfe4-e9d743371329"
      },
      "outputs": [
        {
          "output_type": "stream",
          "name": "stderr",
          "text": [
            "/usr/local/lib/python3.7/dist-packages/ipykernel_launcher.py:4: SettingWithCopyWarning: \n",
            "A value is trying to be set on a copy of a slice from a DataFrame.\n",
            "Try using .loc[row_indexer,col_indexer] = value instead\n",
            "\n",
            "See the caveats in the documentation: https://pandas.pydata.org/pandas-docs/stable/user_guide/indexing.html#returning-a-view-versus-a-copy\n",
            "  after removing the cwd from sys.path.\n",
            "/usr/local/lib/python3.7/dist-packages/ipykernel_launcher.py:5: SettingWithCopyWarning: \n",
            "A value is trying to be set on a copy of a slice from a DataFrame.\n",
            "Try using .loc[row_indexer,col_indexer] = value instead\n",
            "\n",
            "See the caveats in the documentation: https://pandas.pydata.org/pandas-docs/stable/user_guide/indexing.html#returning-a-view-versus-a-copy\n",
            "  \"\"\"\n"
          ]
        }
      ],
      "source": [
        "# steminização\n",
        "\n",
        "frases['texto'] = frases['texto'].apply(lambda x: ' '.join(stemmer.stem(termo) for termo in x.split()))\n",
        "x_train_raw['texto'] = x_train_raw['texto'].apply(lambda x: ' '.join(stemmer.stem(termo) for termo in x.split()))\n",
        "x_test_raw['texto'] = x_test_raw['texto'].apply(lambda x: ' '.join(stemmer.stem(termo) for termo in x.split()))"
      ]
    },
    {
      "cell_type": "code",
      "source": [
        "frases = frases.reset_index()\n",
        "#print(frases['texto'][0])"
      ],
      "metadata": {
        "id": "coTCkNmZtmek"
      },
      "execution_count": 540,
      "outputs": []
    },
    {
      "cell_type": "code",
      "source": [
        "words_raw = set()\n",
        "\n",
        "for i in range(726):\n",
        "    # printing a third element of column\n",
        "    nossa_string = frases['texto'][i]\n",
        "    for termo in nossa_string.split():\n",
        "      words_raw.add(termo)\n",
        "\n",
        "words_raw = list(words_raw)\n",
        "num_words = len(words_raw)\n",
        "\n",
        "def remove_dups(lista):\n",
        "    \"\"\"Remove os itens duplicados mantendo a ordem original.\"\"\"\n",
        "    return list(dict.fromkeys(lista))\n",
        "\n",
        "words = remove_dups(words_raw)\n",
        "words.sort()\n",
        "num_words = len(words)\n",
        "\n",
        "# lista de palavras possíveis\n",
        "num_words"
      ],
      "metadata": {
        "colab": {
          "base_uri": "https://localhost:8080/"
        },
        "id": "0MDubeEflLtK",
        "outputId": "0156a2b7-b176-4971-92e0-f3e0b2a27684"
      },
      "execution_count": 541,
      "outputs": [
        {
          "output_type": "execute_result",
          "data": {
            "text/plain": [
              "12002"
            ]
          },
          "metadata": {},
          "execution_count": 541
        }
      ]
    },
    {
      "cell_type": "markdown",
      "source": [
        "# Mapeando texto em valores numéricos para alimentar a rede neural 🦜\n",
        "\n",
        "Minha idéia: **Polynomial Rolling Hash**, como explicado neste [link](https://www.geeksforgeeks.org/string-hashing-using-polynomial-rolling-hash-function/)."
      ],
      "metadata": {
        "id": "0EFPyxoyc5EL"
      }
    },
    {
      "cell_type": "code",
      "execution_count": 542,
      "metadata": {
        "colab": {
          "base_uri": "https://localhost:8080/",
          "height": 602
        },
        "id": "UeYoPhcM0ZY4",
        "outputId": "82be62b5-c249-4356-fbef-942ff34ff397"
      },
      "outputs": [
        {
          "output_type": "stream",
          "name": "stderr",
          "text": [
            "/usr/local/lib/python3.7/dist-packages/ipykernel_launcher.py:47: SettingWithCopyWarning: \n",
            "A value is trying to be set on a copy of a slice from a DataFrame.\n",
            "Try using .loc[row_indexer,col_indexer] = value instead\n",
            "\n",
            "See the caveats in the documentation: https://pandas.pydata.org/pandas-docs/stable/user_guide/indexing.html#returning-a-view-versus-a-copy\n",
            "/usr/local/lib/python3.7/dist-packages/ipykernel_launcher.py:48: SettingWithCopyWarning: \n",
            "A value is trying to be set on a copy of a slice from a DataFrame.\n",
            "Try using .loc[row_indexer,col_indexer] = value instead\n",
            "\n",
            "See the caveats in the documentation: https://pandas.pydata.org/pandas-docs/stable/user_guide/indexing.html#returning-a-view-versus-a-copy\n"
          ]
        },
        {
          "output_type": "execute_result",
          "data": {
            "text/plain": [
              "             texto\n",
              "1     4.493503e+08\n",
              "12    4.449322e+08\n",
              "23    5.015193e+08\n",
              "30    5.067894e+08\n",
              "39    4.999745e+08\n",
              "...            ...\n",
              "5264  5.557104e+08\n",
              "5265  5.279526e+08\n",
              "5387  4.435323e+08\n",
              "5394  5.377162e+08\n",
              "5404  5.212935e+08\n",
              "\n",
              "[580 rows x 1 columns]"
            ],
            "text/html": [
              "\n",
              "  <div id=\"df-5c3a3586-fc33-4148-873f-a30564630027\">\n",
              "    <div class=\"colab-df-container\">\n",
              "      <div>\n",
              "<style scoped>\n",
              "    .dataframe tbody tr th:only-of-type {\n",
              "        vertical-align: middle;\n",
              "    }\n",
              "\n",
              "    .dataframe tbody tr th {\n",
              "        vertical-align: top;\n",
              "    }\n",
              "\n",
              "    .dataframe thead th {\n",
              "        text-align: right;\n",
              "    }\n",
              "</style>\n",
              "<table border=\"1\" class=\"dataframe\">\n",
              "  <thead>\n",
              "    <tr style=\"text-align: right;\">\n",
              "      <th></th>\n",
              "      <th>texto</th>\n",
              "    </tr>\n",
              "  </thead>\n",
              "  <tbody>\n",
              "    <tr>\n",
              "      <th>1</th>\n",
              "      <td>4.493503e+08</td>\n",
              "    </tr>\n",
              "    <tr>\n",
              "      <th>12</th>\n",
              "      <td>4.449322e+08</td>\n",
              "    </tr>\n",
              "    <tr>\n",
              "      <th>23</th>\n",
              "      <td>5.015193e+08</td>\n",
              "    </tr>\n",
              "    <tr>\n",
              "      <th>30</th>\n",
              "      <td>5.067894e+08</td>\n",
              "    </tr>\n",
              "    <tr>\n",
              "      <th>39</th>\n",
              "      <td>4.999745e+08</td>\n",
              "    </tr>\n",
              "    <tr>\n",
              "      <th>...</th>\n",
              "      <td>...</td>\n",
              "    </tr>\n",
              "    <tr>\n",
              "      <th>5264</th>\n",
              "      <td>5.557104e+08</td>\n",
              "    </tr>\n",
              "    <tr>\n",
              "      <th>5265</th>\n",
              "      <td>5.279526e+08</td>\n",
              "    </tr>\n",
              "    <tr>\n",
              "      <th>5387</th>\n",
              "      <td>4.435323e+08</td>\n",
              "    </tr>\n",
              "    <tr>\n",
              "      <th>5394</th>\n",
              "      <td>5.377162e+08</td>\n",
              "    </tr>\n",
              "    <tr>\n",
              "      <th>5404</th>\n",
              "      <td>5.212935e+08</td>\n",
              "    </tr>\n",
              "  </tbody>\n",
              "</table>\n",
              "<p>580 rows × 1 columns</p>\n",
              "</div>\n",
              "      <button class=\"colab-df-convert\" onclick=\"convertToInteractive('df-5c3a3586-fc33-4148-873f-a30564630027')\"\n",
              "              title=\"Convert this dataframe to an interactive table.\"\n",
              "              style=\"display:none;\">\n",
              "        \n",
              "  <svg xmlns=\"http://www.w3.org/2000/svg\" height=\"24px\"viewBox=\"0 0 24 24\"\n",
              "       width=\"24px\">\n",
              "    <path d=\"M0 0h24v24H0V0z\" fill=\"none\"/>\n",
              "    <path d=\"M18.56 5.44l.94 2.06.94-2.06 2.06-.94-2.06-.94-.94-2.06-.94 2.06-2.06.94zm-11 1L8.5 8.5l.94-2.06 2.06-.94-2.06-.94L8.5 2.5l-.94 2.06-2.06.94zm10 10l.94 2.06.94-2.06 2.06-.94-2.06-.94-.94-2.06-.94 2.06-2.06.94z\"/><path d=\"M17.41 7.96l-1.37-1.37c-.4-.4-.92-.59-1.43-.59-.52 0-1.04.2-1.43.59L10.3 9.45l-7.72 7.72c-.78.78-.78 2.05 0 2.83L4 21.41c.39.39.9.59 1.41.59.51 0 1.02-.2 1.41-.59l7.78-7.78 2.81-2.81c.8-.78.8-2.07 0-2.86zM5.41 20L4 18.59l7.72-7.72 1.47 1.35L5.41 20z\"/>\n",
              "  </svg>\n",
              "      </button>\n",
              "      \n",
              "  <style>\n",
              "    .colab-df-container {\n",
              "      display:flex;\n",
              "      flex-wrap:wrap;\n",
              "      gap: 12px;\n",
              "    }\n",
              "\n",
              "    .colab-df-convert {\n",
              "      background-color: #E8F0FE;\n",
              "      border: none;\n",
              "      border-radius: 50%;\n",
              "      cursor: pointer;\n",
              "      display: none;\n",
              "      fill: #1967D2;\n",
              "      height: 32px;\n",
              "      padding: 0 0 0 0;\n",
              "      width: 32px;\n",
              "    }\n",
              "\n",
              "    .colab-df-convert:hover {\n",
              "      background-color: #E2EBFA;\n",
              "      box-shadow: 0px 1px 2px rgba(60, 64, 67, 0.3), 0px 1px 3px 1px rgba(60, 64, 67, 0.15);\n",
              "      fill: #174EA6;\n",
              "    }\n",
              "\n",
              "    [theme=dark] .colab-df-convert {\n",
              "      background-color: #3B4455;\n",
              "      fill: #D2E3FC;\n",
              "    }\n",
              "\n",
              "    [theme=dark] .colab-df-convert:hover {\n",
              "      background-color: #434B5C;\n",
              "      box-shadow: 0px 1px 3px 1px rgba(0, 0, 0, 0.15);\n",
              "      filter: drop-shadow(0px 1px 2px rgba(0, 0, 0, 0.3));\n",
              "      fill: #FFFFFF;\n",
              "    }\n",
              "  </style>\n",
              "\n",
              "      <script>\n",
              "        const buttonEl =\n",
              "          document.querySelector('#df-5c3a3586-fc33-4148-873f-a30564630027 button.colab-df-convert');\n",
              "        buttonEl.style.display =\n",
              "          google.colab.kernel.accessAllowed ? 'block' : 'none';\n",
              "\n",
              "        async function convertToInteractive(key) {\n",
              "          const element = document.querySelector('#df-5c3a3586-fc33-4148-873f-a30564630027');\n",
              "          const dataTable =\n",
              "            await google.colab.kernel.invokeFunction('convertToInteractive',\n",
              "                                                     [key], {});\n",
              "          if (!dataTable) return;\n",
              "\n",
              "          const docLinkHtml = 'Like what you see? Visit the ' +\n",
              "            '<a target=\"_blank\" href=https://colab.research.google.com/notebooks/data_table.ipynb>data table notebook</a>'\n",
              "            + ' to learn more about interactive tables.';\n",
              "          element.innerHTML = '';\n",
              "          dataTable['output_type'] = 'display_data';\n",
              "          await google.colab.output.renderOutput(dataTable, element);\n",
              "          const docLink = document.createElement('div');\n",
              "          docLink.innerHTML = docLinkHtml;\n",
              "          element.appendChild(docLink);\n",
              "        }\n",
              "      </script>\n",
              "    </div>\n",
              "  </div>\n",
              "  "
            ]
          },
          "metadata": {},
          "execution_count": 542
        }
      ],
      "source": [
        "# Limpeza pronta!\n",
        "\n",
        "# eu tenho uma lista de palavras, \"words\"\n",
        "# agora quero mapear cada palavra em x para um valor inteiro nessa lista\n",
        "\n",
        "\n",
        "class Hash:\n",
        "    def __init__(self, s: str):\n",
        "        self.hash_value = 0\n",
        "        self.p, self.m = 29791, 10**9 + 7\n",
        "        self.length = len(s)\n",
        "        hash_so_far = 0\n",
        "        p_pow = 1\n",
        "        for i in range(self.length):\n",
        "            hash_so_far = (hash_so_far + (1 + ord(s[i]) - ord('a')) * p_pow) % self.m\n",
        "            p_pow = (p_pow * self.p) % self.m\n",
        "        self.hash_value = hash_so_far\n",
        "     \n",
        "    def __eq__(self, other):\n",
        "        return self.hash_value == other.hash_value\n",
        " \n",
        "\n",
        "\n",
        "def retorna_valor(frase):\n",
        "\n",
        "  j = 0\n",
        "  contador = 0\n",
        "\n",
        "  acumulado = 0\n",
        "\n",
        "  for termo in frase.split():\n",
        "    \n",
        "    j = Hash(termo)\n",
        "    acumulado = acumulado + j.hash_value\n",
        "    contador = contador + 1\n",
        "\n",
        "  if(contador != 0):\n",
        "    resultado = acumulado/contador\n",
        "  else:\n",
        "    resultado = acumulado\n",
        "\n",
        "  return resultado\n",
        "\n",
        "x_train = x_train_raw\n",
        "x_test = x_test_raw\n",
        "\n",
        "x_train['texto'] = x_train_raw['texto'].apply(retorna_valor)\n",
        "x_test['texto'] = x_test_raw['texto'].apply(retorna_valor)\n",
        "\n",
        "# vamos realizar a visualização do que vai servir de treino\n",
        "x_train"
      ]
    },
    {
      "cell_type": "code",
      "source": [
        "# deve-se mapear o menor e o maior valor para um range entre (x e y)\n",
        "\n",
        "from scipy.interpolate import interp1d\n",
        "\n",
        "max_index_train = x_train['texto'].max()\n",
        "max_index_test = x_test['texto'].max()\n",
        "\n",
        "if(max_index_train > max_index_test):\n",
        "  max = max_index_train\n",
        "else:\n",
        "  max = max_index_test\n",
        "\n",
        "min_index_train = x_train['texto'].max()\n",
        "min_index_test = x_test['texto'].max()\n",
        "\n",
        "if(min_index_train < min_index_test):\n",
        "  min = min_index_train\n",
        "else:\n",
        "  min = min_index_test\n",
        "\n",
        "print(\"Maior valor retornado -> \" + str(max))\n",
        "print(\"Menor valor retornado -> \" + str(min))\n",
        "\n",
        "def new_map(s):\n",
        "  a = [min, max]\n",
        "  b = [0, 4096]\n",
        "  (a1, a2), (b1, b2) = a, b\n",
        "  return  b1 + ((s - a1) * (b2 - b1) // (a2 - a1))\n",
        "\n",
        "\n",
        "x_train['texto'] = x_train['texto'].apply(new_map)\n",
        "x_test['texto'] = x_test['texto'].apply(new_map)\n"
      ],
      "metadata": {
        "colab": {
          "base_uri": "https://localhost:8080/"
        },
        "id": "s4goodkkvP9Z",
        "outputId": "9c7a51d4-2a07-424c-e35b-0410179f03be"
      },
      "execution_count": 543,
      "outputs": [
        {
          "output_type": "stream",
          "name": "stdout",
          "text": [
            "Maior valor retornado -> 807939627.0\n",
            "Menor valor retornado -> 695443301.0\n"
          ]
        },
        {
          "output_type": "stream",
          "name": "stderr",
          "text": [
            "/usr/local/lib/python3.7/dist-packages/ipykernel_launcher.py:31: SettingWithCopyWarning: \n",
            "A value is trying to be set on a copy of a slice from a DataFrame.\n",
            "Try using .loc[row_indexer,col_indexer] = value instead\n",
            "\n",
            "See the caveats in the documentation: https://pandas.pydata.org/pandas-docs/stable/user_guide/indexing.html#returning-a-view-versus-a-copy\n",
            "/usr/local/lib/python3.7/dist-packages/ipykernel_launcher.py:32: SettingWithCopyWarning: \n",
            "A value is trying to be set on a copy of a slice from a DataFrame.\n",
            "Try using .loc[row_indexer,col_indexer] = value instead\n",
            "\n",
            "See the caveats in the documentation: https://pandas.pydata.org/pandas-docs/stable/user_guide/indexing.html#returning-a-view-versus-a-copy\n"
          ]
        }
      ]
    },
    {
      "cell_type": "code",
      "execution_count": 544,
      "metadata": {
        "colab": {
          "base_uri": "https://localhost:8080/",
          "height": 424
        },
        "id": "r8qehV_r0hdt",
        "outputId": "345861e1-7e2b-4de8-e770-2330392aeb5a"
      },
      "outputs": [
        {
          "output_type": "execute_result",
          "data": {
            "text/plain": [
              "        texto\n",
              "5408  -5235.0\n",
              "5410 -10267.0\n",
              "5412  -6656.0\n",
              "5414  -6134.0\n",
              "5426  -7027.0\n",
              "...       ...\n",
              "6647  -6693.0\n",
              "6651  -5014.0\n",
              "6658  -6451.0\n",
              "6659  -7219.0\n",
              "6688  -9685.0\n",
              "\n",
              "[146 rows x 1 columns]"
            ],
            "text/html": [
              "\n",
              "  <div id=\"df-12aefe06-47fe-4850-8798-cf64da9dbc26\">\n",
              "    <div class=\"colab-df-container\">\n",
              "      <div>\n",
              "<style scoped>\n",
              "    .dataframe tbody tr th:only-of-type {\n",
              "        vertical-align: middle;\n",
              "    }\n",
              "\n",
              "    .dataframe tbody tr th {\n",
              "        vertical-align: top;\n",
              "    }\n",
              "\n",
              "    .dataframe thead th {\n",
              "        text-align: right;\n",
              "    }\n",
              "</style>\n",
              "<table border=\"1\" class=\"dataframe\">\n",
              "  <thead>\n",
              "    <tr style=\"text-align: right;\">\n",
              "      <th></th>\n",
              "      <th>texto</th>\n",
              "    </tr>\n",
              "  </thead>\n",
              "  <tbody>\n",
              "    <tr>\n",
              "      <th>5408</th>\n",
              "      <td>-5235.0</td>\n",
              "    </tr>\n",
              "    <tr>\n",
              "      <th>5410</th>\n",
              "      <td>-10267.0</td>\n",
              "    </tr>\n",
              "    <tr>\n",
              "      <th>5412</th>\n",
              "      <td>-6656.0</td>\n",
              "    </tr>\n",
              "    <tr>\n",
              "      <th>5414</th>\n",
              "      <td>-6134.0</td>\n",
              "    </tr>\n",
              "    <tr>\n",
              "      <th>5426</th>\n",
              "      <td>-7027.0</td>\n",
              "    </tr>\n",
              "    <tr>\n",
              "      <th>...</th>\n",
              "      <td>...</td>\n",
              "    </tr>\n",
              "    <tr>\n",
              "      <th>6647</th>\n",
              "      <td>-6693.0</td>\n",
              "    </tr>\n",
              "    <tr>\n",
              "      <th>6651</th>\n",
              "      <td>-5014.0</td>\n",
              "    </tr>\n",
              "    <tr>\n",
              "      <th>6658</th>\n",
              "      <td>-6451.0</td>\n",
              "    </tr>\n",
              "    <tr>\n",
              "      <th>6659</th>\n",
              "      <td>-7219.0</td>\n",
              "    </tr>\n",
              "    <tr>\n",
              "      <th>6688</th>\n",
              "      <td>-9685.0</td>\n",
              "    </tr>\n",
              "  </tbody>\n",
              "</table>\n",
              "<p>146 rows × 1 columns</p>\n",
              "</div>\n",
              "      <button class=\"colab-df-convert\" onclick=\"convertToInteractive('df-12aefe06-47fe-4850-8798-cf64da9dbc26')\"\n",
              "              title=\"Convert this dataframe to an interactive table.\"\n",
              "              style=\"display:none;\">\n",
              "        \n",
              "  <svg xmlns=\"http://www.w3.org/2000/svg\" height=\"24px\"viewBox=\"0 0 24 24\"\n",
              "       width=\"24px\">\n",
              "    <path d=\"M0 0h24v24H0V0z\" fill=\"none\"/>\n",
              "    <path d=\"M18.56 5.44l.94 2.06.94-2.06 2.06-.94-2.06-.94-.94-2.06-.94 2.06-2.06.94zm-11 1L8.5 8.5l.94-2.06 2.06-.94-2.06-.94L8.5 2.5l-.94 2.06-2.06.94zm10 10l.94 2.06.94-2.06 2.06-.94-2.06-.94-.94-2.06-.94 2.06-2.06.94z\"/><path d=\"M17.41 7.96l-1.37-1.37c-.4-.4-.92-.59-1.43-.59-.52 0-1.04.2-1.43.59L10.3 9.45l-7.72 7.72c-.78.78-.78 2.05 0 2.83L4 21.41c.39.39.9.59 1.41.59.51 0 1.02-.2 1.41-.59l7.78-7.78 2.81-2.81c.8-.78.8-2.07 0-2.86zM5.41 20L4 18.59l7.72-7.72 1.47 1.35L5.41 20z\"/>\n",
              "  </svg>\n",
              "      </button>\n",
              "      \n",
              "  <style>\n",
              "    .colab-df-container {\n",
              "      display:flex;\n",
              "      flex-wrap:wrap;\n",
              "      gap: 12px;\n",
              "    }\n",
              "\n",
              "    .colab-df-convert {\n",
              "      background-color: #E8F0FE;\n",
              "      border: none;\n",
              "      border-radius: 50%;\n",
              "      cursor: pointer;\n",
              "      display: none;\n",
              "      fill: #1967D2;\n",
              "      height: 32px;\n",
              "      padding: 0 0 0 0;\n",
              "      width: 32px;\n",
              "    }\n",
              "\n",
              "    .colab-df-convert:hover {\n",
              "      background-color: #E2EBFA;\n",
              "      box-shadow: 0px 1px 2px rgba(60, 64, 67, 0.3), 0px 1px 3px 1px rgba(60, 64, 67, 0.15);\n",
              "      fill: #174EA6;\n",
              "    }\n",
              "\n",
              "    [theme=dark] .colab-df-convert {\n",
              "      background-color: #3B4455;\n",
              "      fill: #D2E3FC;\n",
              "    }\n",
              "\n",
              "    [theme=dark] .colab-df-convert:hover {\n",
              "      background-color: #434B5C;\n",
              "      box-shadow: 0px 1px 3px 1px rgba(0, 0, 0, 0.15);\n",
              "      filter: drop-shadow(0px 1px 2px rgba(0, 0, 0, 0.3));\n",
              "      fill: #FFFFFF;\n",
              "    }\n",
              "  </style>\n",
              "\n",
              "      <script>\n",
              "        const buttonEl =\n",
              "          document.querySelector('#df-12aefe06-47fe-4850-8798-cf64da9dbc26 button.colab-df-convert');\n",
              "        buttonEl.style.display =\n",
              "          google.colab.kernel.accessAllowed ? 'block' : 'none';\n",
              "\n",
              "        async function convertToInteractive(key) {\n",
              "          const element = document.querySelector('#df-12aefe06-47fe-4850-8798-cf64da9dbc26');\n",
              "          const dataTable =\n",
              "            await google.colab.kernel.invokeFunction('convertToInteractive',\n",
              "                                                     [key], {});\n",
              "          if (!dataTable) return;\n",
              "\n",
              "          const docLinkHtml = 'Like what you see? Visit the ' +\n",
              "            '<a target=\"_blank\" href=https://colab.research.google.com/notebooks/data_table.ipynb>data table notebook</a>'\n",
              "            + ' to learn more about interactive tables.';\n",
              "          element.innerHTML = '';\n",
              "          dataTable['output_type'] = 'display_data';\n",
              "          await google.colab.output.renderOutput(dataTable, element);\n",
              "          const docLink = document.createElement('div');\n",
              "          docLink.innerHTML = docLinkHtml;\n",
              "          element.appendChild(docLink);\n",
              "        }\n",
              "      </script>\n",
              "    </div>\n",
              "  </div>\n",
              "  "
            ]
          },
          "metadata": {},
          "execution_count": 544
        }
      ],
      "source": [
        "# vamos realizar a visualização do que vai servir de teste\n",
        "\n",
        "x_test"
      ]
    },
    {
      "cell_type": "code",
      "source": [
        "# vamos realizar a visualização do que vai servir de treino\n",
        "\n",
        "x_train"
      ],
      "metadata": {
        "colab": {
          "base_uri": "https://localhost:8080/",
          "height": 424
        },
        "id": "btzK1eSbzjMk",
        "outputId": "42a99df8-9613-4d1f-a789-4a231c3253f0"
      },
      "execution_count": 545,
      "outputs": [
        {
          "output_type": "execute_result",
          "data": {
            "text/plain": [
              "       texto\n",
              "1    -8961.0\n",
              "12   -9122.0\n",
              "23   -7061.0\n",
              "30   -6869.0\n",
              "39   -7118.0\n",
              "...      ...\n",
              "5264 -5088.0\n",
              "5265 -6099.0\n",
              "5387 -9173.0\n",
              "5394 -5743.0\n",
              "5404 -6341.0\n",
              "\n",
              "[580 rows x 1 columns]"
            ],
            "text/html": [
              "\n",
              "  <div id=\"df-9a70403e-35a2-4891-be59-bc76f959d24e\">\n",
              "    <div class=\"colab-df-container\">\n",
              "      <div>\n",
              "<style scoped>\n",
              "    .dataframe tbody tr th:only-of-type {\n",
              "        vertical-align: middle;\n",
              "    }\n",
              "\n",
              "    .dataframe tbody tr th {\n",
              "        vertical-align: top;\n",
              "    }\n",
              "\n",
              "    .dataframe thead th {\n",
              "        text-align: right;\n",
              "    }\n",
              "</style>\n",
              "<table border=\"1\" class=\"dataframe\">\n",
              "  <thead>\n",
              "    <tr style=\"text-align: right;\">\n",
              "      <th></th>\n",
              "      <th>texto</th>\n",
              "    </tr>\n",
              "  </thead>\n",
              "  <tbody>\n",
              "    <tr>\n",
              "      <th>1</th>\n",
              "      <td>-8961.0</td>\n",
              "    </tr>\n",
              "    <tr>\n",
              "      <th>12</th>\n",
              "      <td>-9122.0</td>\n",
              "    </tr>\n",
              "    <tr>\n",
              "      <th>23</th>\n",
              "      <td>-7061.0</td>\n",
              "    </tr>\n",
              "    <tr>\n",
              "      <th>30</th>\n",
              "      <td>-6869.0</td>\n",
              "    </tr>\n",
              "    <tr>\n",
              "      <th>39</th>\n",
              "      <td>-7118.0</td>\n",
              "    </tr>\n",
              "    <tr>\n",
              "      <th>...</th>\n",
              "      <td>...</td>\n",
              "    </tr>\n",
              "    <tr>\n",
              "      <th>5264</th>\n",
              "      <td>-5088.0</td>\n",
              "    </tr>\n",
              "    <tr>\n",
              "      <th>5265</th>\n",
              "      <td>-6099.0</td>\n",
              "    </tr>\n",
              "    <tr>\n",
              "      <th>5387</th>\n",
              "      <td>-9173.0</td>\n",
              "    </tr>\n",
              "    <tr>\n",
              "      <th>5394</th>\n",
              "      <td>-5743.0</td>\n",
              "    </tr>\n",
              "    <tr>\n",
              "      <th>5404</th>\n",
              "      <td>-6341.0</td>\n",
              "    </tr>\n",
              "  </tbody>\n",
              "</table>\n",
              "<p>580 rows × 1 columns</p>\n",
              "</div>\n",
              "      <button class=\"colab-df-convert\" onclick=\"convertToInteractive('df-9a70403e-35a2-4891-be59-bc76f959d24e')\"\n",
              "              title=\"Convert this dataframe to an interactive table.\"\n",
              "              style=\"display:none;\">\n",
              "        \n",
              "  <svg xmlns=\"http://www.w3.org/2000/svg\" height=\"24px\"viewBox=\"0 0 24 24\"\n",
              "       width=\"24px\">\n",
              "    <path d=\"M0 0h24v24H0V0z\" fill=\"none\"/>\n",
              "    <path d=\"M18.56 5.44l.94 2.06.94-2.06 2.06-.94-2.06-.94-.94-2.06-.94 2.06-2.06.94zm-11 1L8.5 8.5l.94-2.06 2.06-.94-2.06-.94L8.5 2.5l-.94 2.06-2.06.94zm10 10l.94 2.06.94-2.06 2.06-.94-2.06-.94-.94-2.06-.94 2.06-2.06.94z\"/><path d=\"M17.41 7.96l-1.37-1.37c-.4-.4-.92-.59-1.43-.59-.52 0-1.04.2-1.43.59L10.3 9.45l-7.72 7.72c-.78.78-.78 2.05 0 2.83L4 21.41c.39.39.9.59 1.41.59.51 0 1.02-.2 1.41-.59l7.78-7.78 2.81-2.81c.8-.78.8-2.07 0-2.86zM5.41 20L4 18.59l7.72-7.72 1.47 1.35L5.41 20z\"/>\n",
              "  </svg>\n",
              "      </button>\n",
              "      \n",
              "  <style>\n",
              "    .colab-df-container {\n",
              "      display:flex;\n",
              "      flex-wrap:wrap;\n",
              "      gap: 12px;\n",
              "    }\n",
              "\n",
              "    .colab-df-convert {\n",
              "      background-color: #E8F0FE;\n",
              "      border: none;\n",
              "      border-radius: 50%;\n",
              "      cursor: pointer;\n",
              "      display: none;\n",
              "      fill: #1967D2;\n",
              "      height: 32px;\n",
              "      padding: 0 0 0 0;\n",
              "      width: 32px;\n",
              "    }\n",
              "\n",
              "    .colab-df-convert:hover {\n",
              "      background-color: #E2EBFA;\n",
              "      box-shadow: 0px 1px 2px rgba(60, 64, 67, 0.3), 0px 1px 3px 1px rgba(60, 64, 67, 0.15);\n",
              "      fill: #174EA6;\n",
              "    }\n",
              "\n",
              "    [theme=dark] .colab-df-convert {\n",
              "      background-color: #3B4455;\n",
              "      fill: #D2E3FC;\n",
              "    }\n",
              "\n",
              "    [theme=dark] .colab-df-convert:hover {\n",
              "      background-color: #434B5C;\n",
              "      box-shadow: 0px 1px 3px 1px rgba(0, 0, 0, 0.15);\n",
              "      filter: drop-shadow(0px 1px 2px rgba(0, 0, 0, 0.3));\n",
              "      fill: #FFFFFF;\n",
              "    }\n",
              "  </style>\n",
              "\n",
              "      <script>\n",
              "        const buttonEl =\n",
              "          document.querySelector('#df-9a70403e-35a2-4891-be59-bc76f959d24e button.colab-df-convert');\n",
              "        buttonEl.style.display =\n",
              "          google.colab.kernel.accessAllowed ? 'block' : 'none';\n",
              "\n",
              "        async function convertToInteractive(key) {\n",
              "          const element = document.querySelector('#df-9a70403e-35a2-4891-be59-bc76f959d24e');\n",
              "          const dataTable =\n",
              "            await google.colab.kernel.invokeFunction('convertToInteractive',\n",
              "                                                     [key], {});\n",
              "          if (!dataTable) return;\n",
              "\n",
              "          const docLinkHtml = 'Like what you see? Visit the ' +\n",
              "            '<a target=\"_blank\" href=https://colab.research.google.com/notebooks/data_table.ipynb>data table notebook</a>'\n",
              "            + ' to learn more about interactive tables.';\n",
              "          element.innerHTML = '';\n",
              "          dataTable['output_type'] = 'display_data';\n",
              "          await google.colab.output.renderOutput(dataTable, element);\n",
              "          const docLink = document.createElement('div');\n",
              "          docLink.innerHTML = docLinkHtml;\n",
              "          element.appendChild(docLink);\n",
              "        }\n",
              "      </script>\n",
              "    </div>\n",
              "  </div>\n",
              "  "
            ]
          },
          "metadata": {},
          "execution_count": 545
        }
      ]
    },
    {
      "cell_type": "code",
      "source": [
        "num_words"
      ],
      "metadata": {
        "colab": {
          "base_uri": "https://localhost:8080/"
        },
        "id": "5ydFjd6ShAOn",
        "outputId": "e8b977d8-e0c7-4dcf-893f-50279796d52b"
      },
      "execution_count": 546,
      "outputs": [
        {
          "output_type": "execute_result",
          "data": {
            "text/plain": [
              "12002"
            ]
          },
          "metadata": {},
          "execution_count": 546
        }
      ]
    },
    {
      "cell_type": "code",
      "source": [
        "print(x_train.shape)\n",
        "print(x_test.shape)"
      ],
      "metadata": {
        "colab": {
          "base_uri": "https://localhost:8080/"
        },
        "id": "pTdP349FlqUz",
        "outputId": "44da7397-e1da-431a-cd64-4101c35185c6"
      },
      "execution_count": 547,
      "outputs": [
        {
          "output_type": "stream",
          "name": "stdout",
          "text": [
            "(580, 1)\n",
            "(146, 1)\n"
          ]
        }
      ]
    },
    {
      "cell_type": "code",
      "source": [
        "# Definindo shape correto\n",
        "\n",
        "import numpy \n",
        "\n",
        "print(y_train.shape)\n",
        "#y_train = numpy.delete(y_train, (0), axis=1)\n",
        "#y_test = numpy.delete(y_test, (0), axis=1)\n",
        "print(y_train.shape)"
      ],
      "metadata": {
        "colab": {
          "base_uri": "https://localhost:8080/"
        },
        "id": "a-z2QJsRqvzC",
        "outputId": "44774aa4-9f04-4d76-8a3c-544fd989c918"
      },
      "execution_count": 548,
      "outputs": [
        {
          "output_type": "stream",
          "name": "stdout",
          "text": [
            "(580, 6)\n",
            "(580, 6)\n"
          ]
        }
      ]
    },
    {
      "cell_type": "markdown",
      "metadata": {
        "id": "v1D0lISgN_E3"
      },
      "source": [
        "# RNN: Recurrent Neural Network ♟\n",
        "\n",
        "### Nesse tipo de implementação, sequência e ordem importam!\n",
        "\n",
        "#### Qual deveria ser a proporção escolhida perfeita para essa rede neural é uma pergunta complexa.\n"
      ]
    },
    {
      "cell_type": "code",
      "source": [
        "x_train = np.expand_dims(x_train, axis=-1)\n",
        "y_train = np.expand_dims(y_train, axis=1)\n",
        "\n",
        "\n",
        "x_test = np.expand_dims(x_test, axis=-1)\n",
        "y_test = np.expand_dims(y_test, axis=1)\n",
        "\n",
        "\n",
        "print(x_train.shape)\n",
        "print(y_train.shape)\n",
        "print(x_test.shape)\n",
        "print(y_test.shape)"
      ],
      "metadata": {
        "colab": {
          "base_uri": "https://localhost:8080/"
        },
        "id": "IKwjDIZCYfIf",
        "outputId": "5ea84921-1337-4051-9f2e-61f89b57f947"
      },
      "execution_count": 549,
      "outputs": [
        {
          "output_type": "stream",
          "name": "stdout",
          "text": [
            "(580, 1, 1)\n",
            "(580, 1, 6)\n",
            "(146, 1, 1)\n",
            "(146, 1, 6)\n"
          ]
        }
      ]
    },
    {
      "cell_type": "markdown",
      "source": [
        "# Criando a rede neural 🧠 \n",
        "\n",
        "## Dúvida: como deve ser dada a arquitetura da minha rede? 🤔\n",
        "\n",
        "A rede neural terá uma camada de input com tamanho proporcional à entrada, e uma camada de saída com tamanho proporcional à classificação que será feita. \n",
        "\n",
        "Acertar a quantidade de \"hidden layers\" e quantos nós ela deve ter também é uma tarefa complexa. Dados linearmente separáveis não precisam de uma rede neural com \"hidden layer\", o que certamente não é este caso. Errar \"para mais\" não é uma solução otimizada assim como \"errar para menos\" também não é. \n",
        "\n",
        "[Adotarei este cálculo](https://stackoverflow.com/questions/10565868/multi-layer-perceptron-mlp-architecture-criteria-for-choosing-number-of-hidde) para ter um chute decente de quantos nós devo adotar:\n",
        "\n",
        "(num inputs + num outputs) x 2/3\n",
        "\n",
        "(726 entradas + 7 classificações) x 2/3 = 489\n",
        "\n",
        "Arredondando ordens de grandes após alguns testes, farei uma rede com a seguinte estrutura de \"hidden layers\":\n",
        "\n",
        "512 x 512 x 512 x 128"
      ],
      "metadata": {
        "id": "r4LKWkgXSeOG"
      }
    },
    {
      "cell_type": "code",
      "execution_count": 550,
      "metadata": {
        "id": "yCDHuP9JOBOd"
      },
      "outputs": [],
      "source": [
        "#nx_train = x_train.to_numpy()\n",
        "#ny_train = y_train.to_numpy()\n",
        "#nx_test = x_test.to_numpy()\n",
        "#ny_test = y_test.to_numpy()\n",
        "\n",
        "#nx_train.reshape(1, 5356, 1)\n",
        "#ny_train.reshape(1, 5356, 625)\n",
        "#nx_test.reshape(1, 5356, 1)\n",
        "#zny_test.reshape(1, 5356, 625)\n",
        "\n",
        "# 28 sequencias de 28 elementos\n",
        "\n",
        "#x_train = np.expand_dims(x_train, axis=-1)\n",
        "#y_train = np.expand_dims(y_train, axis=-1)\n",
        "\n",
        "import tensorflow as tf\n",
        "from tensorflow.keras.models import Sequential\n",
        "from tensorflow.keras.layers import Dense, Dropout, LSTM\n",
        "\n",
        "# Input(shape = (T,D)) for RNN\n",
        "# T = T is length of time sequence\n",
        "# D = D is the number of features\n",
        "\n",
        "# x_train.shape[1:] => (1,)\n",
        "\n",
        "# input_shape=(x_train.shape[1:])\n",
        "# input_shape=(5356, 1)\n",
        "\n",
        "model = Sequential()\n",
        "\n",
        "model.add(LSTM(512, input_shape=(x_train.shape[1:]), activation='relu', return_sequences=True))\n",
        "model.add(Dropout(0.1))\n",
        "\n",
        "model.add(LSTM(512, activation='relu', return_sequences=True))\n",
        "model.add(Dropout(0.1))\n",
        "\n",
        "model.add(Dense(512, activation='relu'))\n",
        "model.add(Dropout(0.5))\n",
        "\n",
        "model.add(Dense(128, activation='relu'))\n",
        "model.add(Dropout(0.1))\n",
        "\n",
        "model.add(Dense(valores_distintos, activation='softmax'))\n",
        "\n",
        "\n"
      ]
    },
    {
      "cell_type": "code",
      "source": [
        "x_train.shape[1:]"
      ],
      "metadata": {
        "colab": {
          "base_uri": "https://localhost:8080/"
        },
        "id": "Vz2a4zIG9piH",
        "outputId": "9d1519e9-e4c5-414e-cd7b-7a54eee401eb"
      },
      "execution_count": 551,
      "outputs": [
        {
          "output_type": "execute_result",
          "data": {
            "text/plain": [
              "(1, 1)"
            ]
          },
          "metadata": {},
          "execution_count": 551
        }
      ]
    },
    {
      "cell_type": "markdown",
      "metadata": {
        "id": "jNBxL30kvKqb"
      },
      "source": [
        "# Treinamento da RNN 🏋🏻‍♀️ \n",
        "\n"
      ]
    },
    {
      "cell_type": "code",
      "execution_count": 552,
      "metadata": {
        "id": "jEvPj1xiYVFO",
        "colab": {
          "base_uri": "https://localhost:8080/"
        },
        "outputId": "bd617d10-1de3-45ae-d97d-3f02c9855a61"
      },
      "outputs": [
        {
          "output_type": "stream",
          "name": "stdout",
          "text": [
            "(580, 1, 1)\n",
            "(580, 1, 6)\n",
            "Epoch 1/50\n",
            "19/19 [==============================] - 9s 279ms/step - loss: 15836.7451 - accuracy: 0.3810 - val_loss: 1.5054 - val_accuracy: 0.5068\n",
            "Epoch 2/50\n",
            "19/19 [==============================] - 3s 171ms/step - loss: 505.3062 - accuracy: 0.5017 - val_loss: 1.2252 - val_accuracy: 0.5068\n",
            "Epoch 3/50\n",
            "19/19 [==============================] - 4s 222ms/step - loss: 132.1637 - accuracy: 0.5069 - val_loss: 1.1930 - val_accuracy: 0.5068\n",
            "Epoch 4/50\n",
            "19/19 [==============================] - 4s 206ms/step - loss: 1419.3899 - accuracy: 0.5086 - val_loss: 1.1956 - val_accuracy: 0.5068\n",
            "Epoch 5/50\n",
            "19/19 [==============================] - 3s 183ms/step - loss: 761.6019 - accuracy: 0.5069 - val_loss: 1.1958 - val_accuracy: 0.5068\n",
            "Epoch 6/50\n",
            "19/19 [==============================] - 2s 111ms/step - loss: 1077.1671 - accuracy: 0.5086 - val_loss: 1.1955 - val_accuracy: 0.5068\n",
            "Epoch 7/50\n",
            "19/19 [==============================] - 2s 111ms/step - loss: 359.4043 - accuracy: 0.5103 - val_loss: 1.1978 - val_accuracy: 0.5068\n",
            "Epoch 8/50\n",
            "19/19 [==============================] - 2s 94ms/step - loss: 9.1719 - accuracy: 0.5103 - val_loss: 1.1974 - val_accuracy: 0.5068\n",
            "Epoch 9/50\n",
            "19/19 [==============================] - 2s 105ms/step - loss: 344.1850 - accuracy: 0.5103 - val_loss: 1.1964 - val_accuracy: 0.5068\n",
            "Epoch 10/50\n",
            "19/19 [==============================] - 2s 95ms/step - loss: 8.2830 - accuracy: 0.5103 - val_loss: 1.1982 - val_accuracy: 0.5068\n",
            "Epoch 11/50\n",
            "19/19 [==============================] - 2s 105ms/step - loss: 1.1943 - accuracy: 0.5103 - val_loss: 1.1967 - val_accuracy: 0.5068\n",
            "Epoch 12/50\n",
            "19/19 [==============================] - 2s 97ms/step - loss: 1.1961 - accuracy: 0.5103 - val_loss: 1.1968 - val_accuracy: 0.5068\n",
            "Epoch 13/50\n",
            "19/19 [==============================] - 2s 106ms/step - loss: 219.6778 - accuracy: 0.5086 - val_loss: 1.1966 - val_accuracy: 0.5068\n",
            "Epoch 14/50\n",
            "19/19 [==============================] - 2s 125ms/step - loss: 40.1638 - accuracy: 0.5103 - val_loss: 1.1997 - val_accuracy: 0.5068\n",
            "Epoch 15/50\n",
            "19/19 [==============================] - 2s 104ms/step - loss: 1.1970 - accuracy: 0.5103 - val_loss: 1.1983 - val_accuracy: 0.5068\n",
            "Epoch 16/50\n",
            "19/19 [==============================] - 2s 103ms/step - loss: 1.1972 - accuracy: 0.5103 - val_loss: 1.1975 - val_accuracy: 0.5068\n",
            "Epoch 17/50\n",
            "19/19 [==============================] - 2s 101ms/step - loss: 1.1986 - accuracy: 0.5103 - val_loss: 1.1951 - val_accuracy: 0.5068\n",
            "Epoch 18/50\n",
            "19/19 [==============================] - 2s 94ms/step - loss: 1.2012 - accuracy: 0.5103 - val_loss: 1.1980 - val_accuracy: 0.5068\n",
            "Epoch 19/50\n",
            "19/19 [==============================] - 2s 96ms/step - loss: 69.6372 - accuracy: 0.5103 - val_loss: 1.1968 - val_accuracy: 0.5068\n",
            "Epoch 20/50\n",
            "19/19 [==============================] - 2s 98ms/step - loss: 1.1970 - accuracy: 0.5103 - val_loss: 1.1991 - val_accuracy: 0.5068\n",
            "Epoch 21/50\n",
            "19/19 [==============================] - 2s 92ms/step - loss: 1.1967 - accuracy: 0.5103 - val_loss: 1.1969 - val_accuracy: 0.5068\n",
            "Epoch 22/50\n",
            "19/19 [==============================] - 2s 103ms/step - loss: 1.1967 - accuracy: 0.5103 - val_loss: 1.1983 - val_accuracy: 0.5068\n",
            "Epoch 23/50\n",
            "19/19 [==============================] - 2s 97ms/step - loss: 1.1977 - accuracy: 0.5103 - val_loss: 1.1978 - val_accuracy: 0.5068\n",
            "Epoch 24/50\n",
            "19/19 [==============================] - 2s 101ms/step - loss: 1.1962 - accuracy: 0.5103 - val_loss: 1.1979 - val_accuracy: 0.5068\n",
            "Epoch 25/50\n",
            "19/19 [==============================] - 2s 94ms/step - loss: 4.0957 - accuracy: 0.5103 - val_loss: 1.1976 - val_accuracy: 0.5068\n",
            "Epoch 26/50\n",
            "19/19 [==============================] - 2s 105ms/step - loss: 298.1063 - accuracy: 0.5103 - val_loss: 1.1966 - val_accuracy: 0.5068\n",
            "Epoch 27/50\n",
            "19/19 [==============================] - 2s 98ms/step - loss: 19.1110 - accuracy: 0.5103 - val_loss: 1.1976 - val_accuracy: 0.5068\n",
            "Epoch 28/50\n",
            "19/19 [==============================] - 2s 98ms/step - loss: 1.1979 - accuracy: 0.5103 - val_loss: 1.2028 - val_accuracy: 0.5068\n",
            "Epoch 29/50\n",
            "19/19 [==============================] - 2s 104ms/step - loss: 1.1961 - accuracy: 0.5103 - val_loss: 1.2007 - val_accuracy: 0.5068\n",
            "Epoch 30/50\n",
            "19/19 [==============================] - 2s 95ms/step - loss: 35.8507 - accuracy: 0.5103 - val_loss: 1.1980 - val_accuracy: 0.5068\n",
            "Epoch 31/50\n",
            "19/19 [==============================] - 2s 95ms/step - loss: 2.5897 - accuracy: 0.5103 - val_loss: 1.1976 - val_accuracy: 0.5068\n",
            "Epoch 32/50\n",
            "19/19 [==============================] - 2s 100ms/step - loss: 1.1964 - accuracy: 0.5103 - val_loss: 1.1981 - val_accuracy: 0.5068\n",
            "Epoch 33/50\n",
            "19/19 [==============================] - 2s 94ms/step - loss: 1.1961 - accuracy: 0.5103 - val_loss: 1.1971 - val_accuracy: 0.5068\n",
            "Epoch 34/50\n",
            "19/19 [==============================] - 2s 91ms/step - loss: 1.1952 - accuracy: 0.5103 - val_loss: 1.1984 - val_accuracy: 0.5068\n",
            "Epoch 35/50\n",
            "19/19 [==============================] - 3s 138ms/step - loss: 1.1976 - accuracy: 0.5103 - val_loss: 1.1992 - val_accuracy: 0.5068\n",
            "Epoch 36/50\n",
            "19/19 [==============================] - 2s 90ms/step - loss: 1.1972 - accuracy: 0.5103 - val_loss: 1.1921 - val_accuracy: 0.5068\n",
            "Epoch 37/50\n",
            "19/19 [==============================] - 2s 99ms/step - loss: 1.1974 - accuracy: 0.5103 - val_loss: 1.1944 - val_accuracy: 0.5068\n",
            "Epoch 38/50\n",
            "19/19 [==============================] - 2s 96ms/step - loss: 1.1978 - accuracy: 0.5103 - val_loss: 1.1950 - val_accuracy: 0.5068\n",
            "Epoch 39/50\n",
            "19/19 [==============================] - 2s 99ms/step - loss: 1.2008 - accuracy: 0.5103 - val_loss: 1.1975 - val_accuracy: 0.5068\n",
            "Epoch 40/50\n",
            "19/19 [==============================] - 2s 88ms/step - loss: 1.1972 - accuracy: 0.5103 - val_loss: 1.1981 - val_accuracy: 0.5068\n",
            "Epoch 41/50\n",
            "19/19 [==============================] - 2s 92ms/step - loss: 1.1989 - accuracy: 0.5103 - val_loss: 1.1960 - val_accuracy: 0.5068\n",
            "Epoch 42/50\n",
            "19/19 [==============================] - 2s 95ms/step - loss: 1.1958 - accuracy: 0.5103 - val_loss: 1.1963 - val_accuracy: 0.5068\n",
            "Epoch 43/50\n",
            "19/19 [==============================] - 2s 99ms/step - loss: 162.2728 - accuracy: 0.5103 - val_loss: 1.1973 - val_accuracy: 0.5068\n",
            "Epoch 44/50\n",
            "19/19 [==============================] - 2s 113ms/step - loss: 1.1966 - accuracy: 0.5103 - val_loss: 1.1985 - val_accuracy: 0.5068\n",
            "Epoch 45/50\n",
            "19/19 [==============================] - 2s 110ms/step - loss: 1.2007 - accuracy: 0.5103 - val_loss: 1.1977 - val_accuracy: 0.5068\n",
            "Epoch 46/50\n",
            "19/19 [==============================] - 2s 107ms/step - loss: 1.1958 - accuracy: 0.5103 - val_loss: 1.1970 - val_accuracy: 0.5068\n",
            "Epoch 47/50\n",
            "19/19 [==============================] - 2s 105ms/step - loss: 1.1981 - accuracy: 0.5103 - val_loss: 1.1942 - val_accuracy: 0.5068\n",
            "Epoch 48/50\n",
            "19/19 [==============================] - 2s 103ms/step - loss: 1.1959 - accuracy: 0.5103 - val_loss: 1.1940 - val_accuracy: 0.5068\n",
            "Epoch 49/50\n",
            "19/19 [==============================] - 2s 116ms/step - loss: 1.2031 - accuracy: 0.5103 - val_loss: 1.1964 - val_accuracy: 0.5068\n",
            "Epoch 50/50\n",
            "19/19 [==============================] - 2s 106ms/step - loss: 1.1970 - accuracy: 0.5103 - val_loss: 1.2049 - val_accuracy: 0.5068\n"
          ]
        },
        {
          "output_type": "execute_result",
          "data": {
            "text/plain": [
              "<keras.callbacks.History at 0x7f2535606110>"
            ]
          },
          "metadata": {},
          "execution_count": 552
        }
      ],
      "source": [
        "print(x_train.shape)\n",
        "print(y_train.shape)\n",
        "\n",
        "#x_test = np.expand_dims(x_test, axis=-1)\n",
        "#y_test = np.expand_dims(y_test, axis=1)\n",
        "\n",
        "opt = tf.keras.optimizers.Adam(learning_rate=0.1, decay=1e-3)\n",
        "\n",
        "model.compile(\n",
        "   loss='categorical_crossentropy',\n",
        "   optimizer=opt,\n",
        "   metrics=['accuracy'],\n",
        ")\n",
        "\n",
        "model.fit(x_train,\n",
        "          y_train,\n",
        "          epochs=50,\n",
        "          validation_data=(x_test, y_test))"
      ]
    },
    {
      "cell_type": "markdown",
      "source": [
        "# Avaliação do modelo 🤙🏻"
      ],
      "metadata": {
        "id": "4L9PEVe0XdrC"
      }
    },
    {
      "cell_type": "code",
      "source": [
        "score = model.evaluate(x_test, y_test, verbose=0)\n"
      ],
      "metadata": {
        "id": "zjQ5cO1fyhl7"
      },
      "execution_count": 553,
      "outputs": []
    },
    {
      "cell_type": "markdown",
      "source": [
        "# Resultados 😳\n"
      ],
      "metadata": {
        "id": "6f8Yi2j4WSyo"
      }
    },
    {
      "cell_type": "code",
      "source": [
        "print('Test loss:', score[0])\n",
        "print('Test accuracy:', score[1])"
      ],
      "metadata": {
        "colab": {
          "base_uri": "https://localhost:8080/"
        },
        "id": "gTbsznMpGlrn",
        "outputId": "09ce6e24-c22a-4265-c6b5-3965485653fa"
      },
      "execution_count": 554,
      "outputs": [
        {
          "output_type": "stream",
          "name": "stdout",
          "text": [
            "Test loss: 1.2048616409301758\n",
            "Test accuracy: 0.5068492889404297\n"
          ]
        }
      ]
    },
    {
      "cell_type": "markdown",
      "source": [
        "### Esse é o melhor resultado que fui capaz de atingir e acredito estar satisfatório, comparando com o resultado prévio de classificação de todos as entidades."
      ],
      "metadata": {
        "id": "v5lZXD8jGmdG"
      }
    }
  ],
  "metadata": {
    "colab": {
      "collapsed_sections": [],
      "name": "2TrabalhoFinal_CIC0087.ipynb",
      "provenance": []
    },
    "kernelspec": {
      "display_name": "Python 3",
      "name": "python3"
    },
    "language_info": {
      "name": "python"
    }
  },
  "nbformat": 4,
  "nbformat_minor": 0
}