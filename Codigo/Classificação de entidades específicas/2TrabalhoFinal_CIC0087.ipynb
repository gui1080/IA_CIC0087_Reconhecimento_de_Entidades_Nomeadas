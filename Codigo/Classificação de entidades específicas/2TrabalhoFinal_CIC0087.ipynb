{
  "cells": [
    {
      "cell_type": "markdown",
      "metadata": {
        "id": "Dnuq-Zu1I8pt"
      },
      "source": [
        "# Trabalho final para a matéria: \"Anotação de Textos e Processamento de Linguagem Natural (CIC0087)\" 😊\n",
        "\n",
        "## Tentativa de reconhecimento de todas as Entidades Nomeadas providas no corpo de contratos.\n",
        "\n",
        "## Sim, me dei conta de que o pedido da tarefa originalmente era a classificação de algumas entidades definidas, mas tentei com meus conhecimentos tentar classificar tudo para ver o que aconteceria, como um treinamento para a execução da classificação final.\n",
        "\n",
        "### 👨‍💻 Aluno: Guilherme Braga (17/0162290)\n",
        "\n",
        "#### 🐱 [Repositório no Github](https://github.com/gui1080/IA_CIC0087_Reconhecimento_de_Entidades_Nomeadas)"
      ]
    },
    {
      "cell_type": "markdown",
      "metadata": {
        "id": "vwnQzIkALkBi"
      },
      "source": [
        "### Pegando os dados originais 🧐"
      ]
    },
    {
      "cell_type": "code",
      "execution_count": 1,
      "metadata": {
        "colab": {
          "base_uri": "https://localhost:8080/",
          "height": 74,
          "resources": {
            "http://localhost:8080/nbextensions/google.colab/files.js": {
              "data": "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",
              "headers": [
                [
                  "content-type",
                  "application/javascript"
                ]
              ],
              "ok": true,
              "status": 200,
              "status_text": "OK"
            }
          }
        },
        "id": "F1JsswOULFtZ",
        "outputId": "5846e6f2-f487-4a3d-a884-ba89e8b85c6e"
      },
      "outputs": [
        {
          "output_type": "display_data",
          "data": {
            "text/plain": [
              "<IPython.core.display.HTML object>"
            ],
            "text/html": [
              "\n",
              "     <input type=\"file\" id=\"files-f3a5469e-9962-4829-a5f2-301397567fc9\" name=\"files[]\" multiple disabled\n",
              "        style=\"border:none\" />\n",
              "     <output id=\"result-f3a5469e-9962-4829-a5f2-301397567fc9\">\n",
              "      Upload widget is only available when the cell has been executed in the\n",
              "      current browser session. Please rerun this cell to enable.\n",
              "      </output>\n",
              "      <script src=\"/nbextensions/google.colab/files.js\"></script> "
            ]
          },
          "metadata": {}
        },
        {
          "output_type": "stream",
          "name": "stdout",
          "text": [
            "Saving contratos.csv to contratos.csv\n"
          ]
        }
      ],
      "source": [
        "from google.colab import files\n",
        "\n",
        "# importar o arquivo de disco local, com o nome original \"contratos.csv\"\n",
        "uploaded = files.upload()"
      ]
    },
    {
      "cell_type": "markdown",
      "metadata": {
        "id": "cf5843P9LfbS"
      },
      "source": [
        "### Importando, separando e limpando os dados 🚮\n"
      ]
    },
    {
      "cell_type": "code",
      "execution_count": 2,
      "metadata": {
        "colab": {
          "base_uri": "https://localhost:8080/",
          "height": 503
        },
        "id": "5ziMLMyJIW7f",
        "outputId": "326d23da-dee5-42ff-88f3-05170521083f"
      },
      "outputs": [
        {
          "output_type": "execute_result",
          "data": {
            "text/plain": [
              "      index          id_dodf                 tipo_rel id_rel  \\\n",
              "0         0  22_20.12.2019.1  REL_ADITAMENTO_CONTRATO     R5   \n",
              "1         1  22_20.12.2019.1  REL_ADITAMENTO_CONTRATO     R5   \n",
              "2         2  22_20.12.2019.1  REL_ADITAMENTO_CONTRATO     R5   \n",
              "3         3  22_20.12.2019.1  REL_ADITAMENTO_CONTRATO     R5   \n",
              "4         4  22_20.12.2019.1  REL_ADITAMENTO_CONTRATO     R5   \n",
              "...     ...              ...                      ...    ...   \n",
              "6691   6691      8_13.8.2019     REL_EXTRATO_CONTRATO     R5   \n",
              "6692   6692      8_13.8.2019     REL_EXTRATO_CONTRATO     R5   \n",
              "6693   6693      8_13.8.2019     REL_EXTRATO_CONTRATO     R5   \n",
              "6694   6694      8_13.8.2019     REL_EXTRATO_CONTRATO     R5   \n",
              "6695   6695      8_13.8.2019     REL_EXTRATO_CONTRATO     R5   \n",
              "\n",
              "           anotador_rel         timestamp_rel                      tipo_ent  \\\n",
              "0        matheus_santos  2022-04-02T22:45:52Z          numero_termo_aditivo   \n",
              "1        matheus_santos  2022-04-02T22:45:52Z               numero_contrato   \n",
              "2        matheus_santos  2022-04-02T22:45:52Z             orgao_contratante   \n",
              "3        matheus_santos  2022-04-02T22:45:52Z  objeto_aditamento_contratual   \n",
              "4        matheus_santos  2022-04-02T22:45:52Z                  processo_gdf   \n",
              "...                 ...                   ...                           ...   \n",
              "6691  alexandre_santana  2022-03-08T12:03:42Z             vigencia_contrato   \n",
              "6692  alexandre_santana  2022-03-08T12:03:42Z                valor_contrato   \n",
              "6693  alexandre_santana  2022-03-08T12:03:42Z      data_assinatura_contrato   \n",
              "6694  alexandre_santana  2022-03-08T12:03:42Z               objeto_contrato   \n",
              "6695  alexandre_santana  2022-03-08T12:03:42Z              EXTRATO_CONTRATO   \n",
              "\n",
              "      id_ent       anotador_ent         timestamp_ent  offset  length  \\\n",
              "0        275     matheus_santos  2022-03-04T15:34:41Z  372969      20   \n",
              "1        276     matheus_santos  2022-03-04T15:34:41Z  373005       8   \n",
              "2        277     matheus_santos  2022-03-04T15:34:41Z  373098       8   \n",
              "3        278     matheus_santos  2022-03-04T15:34:41Z  373238     481   \n",
              "4        434     matheus_santos  2022-04-02T22:45:46Z  373072      16   \n",
              "...      ...                ...                   ...     ...     ...   \n",
              "6691       6  alexandre_santana  2022-02-22T02:34:10Z  478144      17   \n",
              "6692       5  alexandre_santana  2022-02-22T02:34:10Z  478173       9   \n",
              "6693     149  alexandre_santana  2022-03-08T12:03:37Z  478086      10   \n",
              "6694     150  alexandre_santana  2022-03-08T12:03:37Z  478106      26   \n",
              "6695     151  alexandre_santana  2022-03-08T12:03:37Z  477783     553   \n",
              "\n",
              "                                                  texto  \n",
              "0                                  QUARTO TERMO ADITIVO  \n",
              "1                                              002/2018  \n",
              "2                                              DF/RA II  \n",
              "3     O presente Termo Aditivo objetiva a alteracao ...  \n",
              "4                                      0131-000016/2018  \n",
              "...                                                 ...  \n",
              "6691                                  04 (quatro) meses  \n",
              "6692                                          76.500,00  \n",
              "6693                                         07/08/2019  \n",
              "6694                         aquisicao de fita eletrica  \n",
              "6695  EXTRATO DE CONTRATO\\nEspecie: Contrato no 746/...  \n",
              "\n",
              "[6696 rows x 13 columns]"
            ],
            "text/html": [
              "\n",
              "  <div id=\"df-3c9749cf-d195-4811-9df3-0ca3e0cbe6a1\">\n",
              "    <div class=\"colab-df-container\">\n",
              "      <div>\n",
              "<style scoped>\n",
              "    .dataframe tbody tr th:only-of-type {\n",
              "        vertical-align: middle;\n",
              "    }\n",
              "\n",
              "    .dataframe tbody tr th {\n",
              "        vertical-align: top;\n",
              "    }\n",
              "\n",
              "    .dataframe thead th {\n",
              "        text-align: right;\n",
              "    }\n",
              "</style>\n",
              "<table border=\"1\" class=\"dataframe\">\n",
              "  <thead>\n",
              "    <tr style=\"text-align: right;\">\n",
              "      <th></th>\n",
              "      <th>index</th>\n",
              "      <th>id_dodf</th>\n",
              "      <th>tipo_rel</th>\n",
              "      <th>id_rel</th>\n",
              "      <th>anotador_rel</th>\n",
              "      <th>timestamp_rel</th>\n",
              "      <th>tipo_ent</th>\n",
              "      <th>id_ent</th>\n",
              "      <th>anotador_ent</th>\n",
              "      <th>timestamp_ent</th>\n",
              "      <th>offset</th>\n",
              "      <th>length</th>\n",
              "      <th>texto</th>\n",
              "    </tr>\n",
              "  </thead>\n",
              "  <tbody>\n",
              "    <tr>\n",
              "      <th>0</th>\n",
              "      <td>0</td>\n",
              "      <td>22_20.12.2019.1</td>\n",
              "      <td>REL_ADITAMENTO_CONTRATO</td>\n",
              "      <td>R5</td>\n",
              "      <td>matheus_santos</td>\n",
              "      <td>2022-04-02T22:45:52Z</td>\n",
              "      <td>numero_termo_aditivo</td>\n",
              "      <td>275</td>\n",
              "      <td>matheus_santos</td>\n",
              "      <td>2022-03-04T15:34:41Z</td>\n",
              "      <td>372969</td>\n",
              "      <td>20</td>\n",
              "      <td>QUARTO TERMO ADITIVO</td>\n",
              "    </tr>\n",
              "    <tr>\n",
              "      <th>1</th>\n",
              "      <td>1</td>\n",
              "      <td>22_20.12.2019.1</td>\n",
              "      <td>REL_ADITAMENTO_CONTRATO</td>\n",
              "      <td>R5</td>\n",
              "      <td>matheus_santos</td>\n",
              "      <td>2022-04-02T22:45:52Z</td>\n",
              "      <td>numero_contrato</td>\n",
              "      <td>276</td>\n",
              "      <td>matheus_santos</td>\n",
              "      <td>2022-03-04T15:34:41Z</td>\n",
              "      <td>373005</td>\n",
              "      <td>8</td>\n",
              "      <td>002/2018</td>\n",
              "    </tr>\n",
              "    <tr>\n",
              "      <th>2</th>\n",
              "      <td>2</td>\n",
              "      <td>22_20.12.2019.1</td>\n",
              "      <td>REL_ADITAMENTO_CONTRATO</td>\n",
              "      <td>R5</td>\n",
              "      <td>matheus_santos</td>\n",
              "      <td>2022-04-02T22:45:52Z</td>\n",
              "      <td>orgao_contratante</td>\n",
              "      <td>277</td>\n",
              "      <td>matheus_santos</td>\n",
              "      <td>2022-03-04T15:34:41Z</td>\n",
              "      <td>373098</td>\n",
              "      <td>8</td>\n",
              "      <td>DF/RA II</td>\n",
              "    </tr>\n",
              "    <tr>\n",
              "      <th>3</th>\n",
              "      <td>3</td>\n",
              "      <td>22_20.12.2019.1</td>\n",
              "      <td>REL_ADITAMENTO_CONTRATO</td>\n",
              "      <td>R5</td>\n",
              "      <td>matheus_santos</td>\n",
              "      <td>2022-04-02T22:45:52Z</td>\n",
              "      <td>objeto_aditamento_contratual</td>\n",
              "      <td>278</td>\n",
              "      <td>matheus_santos</td>\n",
              "      <td>2022-03-04T15:34:41Z</td>\n",
              "      <td>373238</td>\n",
              "      <td>481</td>\n",
              "      <td>O presente Termo Aditivo objetiva a alteracao ...</td>\n",
              "    </tr>\n",
              "    <tr>\n",
              "      <th>4</th>\n",
              "      <td>4</td>\n",
              "      <td>22_20.12.2019.1</td>\n",
              "      <td>REL_ADITAMENTO_CONTRATO</td>\n",
              "      <td>R5</td>\n",
              "      <td>matheus_santos</td>\n",
              "      <td>2022-04-02T22:45:52Z</td>\n",
              "      <td>processo_gdf</td>\n",
              "      <td>434</td>\n",
              "      <td>matheus_santos</td>\n",
              "      <td>2022-04-02T22:45:46Z</td>\n",
              "      <td>373072</td>\n",
              "      <td>16</td>\n",
              "      <td>0131-000016/2018</td>\n",
              "    </tr>\n",
              "    <tr>\n",
              "      <th>...</th>\n",
              "      <td>...</td>\n",
              "      <td>...</td>\n",
              "      <td>...</td>\n",
              "      <td>...</td>\n",
              "      <td>...</td>\n",
              "      <td>...</td>\n",
              "      <td>...</td>\n",
              "      <td>...</td>\n",
              "      <td>...</td>\n",
              "      <td>...</td>\n",
              "      <td>...</td>\n",
              "      <td>...</td>\n",
              "      <td>...</td>\n",
              "    </tr>\n",
              "    <tr>\n",
              "      <th>6691</th>\n",
              "      <td>6691</td>\n",
              "      <td>8_13.8.2019</td>\n",
              "      <td>REL_EXTRATO_CONTRATO</td>\n",
              "      <td>R5</td>\n",
              "      <td>alexandre_santana</td>\n",
              "      <td>2022-03-08T12:03:42Z</td>\n",
              "      <td>vigencia_contrato</td>\n",
              "      <td>6</td>\n",
              "      <td>alexandre_santana</td>\n",
              "      <td>2022-02-22T02:34:10Z</td>\n",
              "      <td>478144</td>\n",
              "      <td>17</td>\n",
              "      <td>04 (quatro) meses</td>\n",
              "    </tr>\n",
              "    <tr>\n",
              "      <th>6692</th>\n",
              "      <td>6692</td>\n",
              "      <td>8_13.8.2019</td>\n",
              "      <td>REL_EXTRATO_CONTRATO</td>\n",
              "      <td>R5</td>\n",
              "      <td>alexandre_santana</td>\n",
              "      <td>2022-03-08T12:03:42Z</td>\n",
              "      <td>valor_contrato</td>\n",
              "      <td>5</td>\n",
              "      <td>alexandre_santana</td>\n",
              "      <td>2022-02-22T02:34:10Z</td>\n",
              "      <td>478173</td>\n",
              "      <td>9</td>\n",
              "      <td>76.500,00</td>\n",
              "    </tr>\n",
              "    <tr>\n",
              "      <th>6693</th>\n",
              "      <td>6693</td>\n",
              "      <td>8_13.8.2019</td>\n",
              "      <td>REL_EXTRATO_CONTRATO</td>\n",
              "      <td>R5</td>\n",
              "      <td>alexandre_santana</td>\n",
              "      <td>2022-03-08T12:03:42Z</td>\n",
              "      <td>data_assinatura_contrato</td>\n",
              "      <td>149</td>\n",
              "      <td>alexandre_santana</td>\n",
              "      <td>2022-03-08T12:03:37Z</td>\n",
              "      <td>478086</td>\n",
              "      <td>10</td>\n",
              "      <td>07/08/2019</td>\n",
              "    </tr>\n",
              "    <tr>\n",
              "      <th>6694</th>\n",
              "      <td>6694</td>\n",
              "      <td>8_13.8.2019</td>\n",
              "      <td>REL_EXTRATO_CONTRATO</td>\n",
              "      <td>R5</td>\n",
              "      <td>alexandre_santana</td>\n",
              "      <td>2022-03-08T12:03:42Z</td>\n",
              "      <td>objeto_contrato</td>\n",
              "      <td>150</td>\n",
              "      <td>alexandre_santana</td>\n",
              "      <td>2022-03-08T12:03:37Z</td>\n",
              "      <td>478106</td>\n",
              "      <td>26</td>\n",
              "      <td>aquisicao de fita eletrica</td>\n",
              "    </tr>\n",
              "    <tr>\n",
              "      <th>6695</th>\n",
              "      <td>6695</td>\n",
              "      <td>8_13.8.2019</td>\n",
              "      <td>REL_EXTRATO_CONTRATO</td>\n",
              "      <td>R5</td>\n",
              "      <td>alexandre_santana</td>\n",
              "      <td>2022-03-08T12:03:42Z</td>\n",
              "      <td>EXTRATO_CONTRATO</td>\n",
              "      <td>151</td>\n",
              "      <td>alexandre_santana</td>\n",
              "      <td>2022-03-08T12:03:37Z</td>\n",
              "      <td>477783</td>\n",
              "      <td>553</td>\n",
              "      <td>EXTRATO DE CONTRATO\\nEspecie: Contrato no 746/...</td>\n",
              "    </tr>\n",
              "  </tbody>\n",
              "</table>\n",
              "<p>6696 rows × 13 columns</p>\n",
              "</div>\n",
              "      <button class=\"colab-df-convert\" onclick=\"convertToInteractive('df-3c9749cf-d195-4811-9df3-0ca3e0cbe6a1')\"\n",
              "              title=\"Convert this dataframe to an interactive table.\"\n",
              "              style=\"display:none;\">\n",
              "        \n",
              "  <svg xmlns=\"http://www.w3.org/2000/svg\" height=\"24px\"viewBox=\"0 0 24 24\"\n",
              "       width=\"24px\">\n",
              "    <path d=\"M0 0h24v24H0V0z\" fill=\"none\"/>\n",
              "    <path d=\"M18.56 5.44l.94 2.06.94-2.06 2.06-.94-2.06-.94-.94-2.06-.94 2.06-2.06.94zm-11 1L8.5 8.5l.94-2.06 2.06-.94-2.06-.94L8.5 2.5l-.94 2.06-2.06.94zm10 10l.94 2.06.94-2.06 2.06-.94-2.06-.94-.94-2.06-.94 2.06-2.06.94z\"/><path d=\"M17.41 7.96l-1.37-1.37c-.4-.4-.92-.59-1.43-.59-.52 0-1.04.2-1.43.59L10.3 9.45l-7.72 7.72c-.78.78-.78 2.05 0 2.83L4 21.41c.39.39.9.59 1.41.59.51 0 1.02-.2 1.41-.59l7.78-7.78 2.81-2.81c.8-.78.8-2.07 0-2.86zM5.41 20L4 18.59l7.72-7.72 1.47 1.35L5.41 20z\"/>\n",
              "  </svg>\n",
              "      </button>\n",
              "      \n",
              "  <style>\n",
              "    .colab-df-container {\n",
              "      display:flex;\n",
              "      flex-wrap:wrap;\n",
              "      gap: 12px;\n",
              "    }\n",
              "\n",
              "    .colab-df-convert {\n",
              "      background-color: #E8F0FE;\n",
              "      border: none;\n",
              "      border-radius: 50%;\n",
              "      cursor: pointer;\n",
              "      display: none;\n",
              "      fill: #1967D2;\n",
              "      height: 32px;\n",
              "      padding: 0 0 0 0;\n",
              "      width: 32px;\n",
              "    }\n",
              "\n",
              "    .colab-df-convert:hover {\n",
              "      background-color: #E2EBFA;\n",
              "      box-shadow: 0px 1px 2px rgba(60, 64, 67, 0.3), 0px 1px 3px 1px rgba(60, 64, 67, 0.15);\n",
              "      fill: #174EA6;\n",
              "    }\n",
              "\n",
              "    [theme=dark] .colab-df-convert {\n",
              "      background-color: #3B4455;\n",
              "      fill: #D2E3FC;\n",
              "    }\n",
              "\n",
              "    [theme=dark] .colab-df-convert:hover {\n",
              "      background-color: #434B5C;\n",
              "      box-shadow: 0px 1px 3px 1px rgba(0, 0, 0, 0.15);\n",
              "      filter: drop-shadow(0px 1px 2px rgba(0, 0, 0, 0.3));\n",
              "      fill: #FFFFFF;\n",
              "    }\n",
              "  </style>\n",
              "\n",
              "      <script>\n",
              "        const buttonEl =\n",
              "          document.querySelector('#df-3c9749cf-d195-4811-9df3-0ca3e0cbe6a1 button.colab-df-convert');\n",
              "        buttonEl.style.display =\n",
              "          google.colab.kernel.accessAllowed ? 'block' : 'none';\n",
              "\n",
              "        async function convertToInteractive(key) {\n",
              "          const element = document.querySelector('#df-3c9749cf-d195-4811-9df3-0ca3e0cbe6a1');\n",
              "          const dataTable =\n",
              "            await google.colab.kernel.invokeFunction('convertToInteractive',\n",
              "                                                     [key], {});\n",
              "          if (!dataTable) return;\n",
              "\n",
              "          const docLinkHtml = 'Like what you see? Visit the ' +\n",
              "            '<a target=\"_blank\" href=https://colab.research.google.com/notebooks/data_table.ipynb>data table notebook</a>'\n",
              "            + ' to learn more about interactive tables.';\n",
              "          element.innerHTML = '';\n",
              "          dataTable['output_type'] = 'display_data';\n",
              "          await google.colab.output.renderOutput(dataTable, element);\n",
              "          const docLink = document.createElement('div');\n",
              "          docLink.innerHTML = docLinkHtml;\n",
              "          element.appendChild(docLink);\n",
              "        }\n",
              "      </script>\n",
              "    </div>\n",
              "  </div>\n",
              "  "
            ]
          },
          "metadata": {},
          "execution_count": 2
        }
      ],
      "source": [
        "import pandas as pd\n",
        "import numpy as np\n",
        "import io\n",
        "from sklearn.utils import shuffle\n",
        "\n",
        "# Adicionando em dataframe\n",
        "df = pd.read_csv(io.BytesIO(uploaded['contratos.csv']))\n",
        "df = df.replace([np.inf, -np.inf], np.nan)\n",
        "df = df.reset_index()\n",
        "\n",
        "df"
      ]
    },
    {
      "cell_type": "markdown",
      "metadata": {
        "id": "hwlAsa6Bs91x"
      },
      "source": [
        "### Nem sempre é necessária a limpeza total dos dados! 😕\n",
        "\n",
        "#### [\"Aqui entidades numéricas, capitalização e pontuação podem ser importantes. Por isso, pensando em uma tarefa de classificação, faz sentido não adotar alguns dos passos de pré-processamento que normalmente são feitos.\"](https://colab.research.google.com/drive/1zjcTnNNLlbM3BH3zEAAnQSJjlUmTP8K2?usp=sharing#scrollTo=XP3U0XWKsmSf://)"
      ]
    },
    {
      "cell_type": "code",
      "execution_count": 3,
      "metadata": {
        "colab": {
          "base_uri": "https://localhost:8080/"
        },
        "id": "oA0glaFzJLjl",
        "outputId": "bb7103f7-2808-4c22-d7c6-c795255a05df"
      },
      "outputs": [
        {
          "output_type": "stream",
          "name": "stdout",
          "text": [
            "624\n",
            "5356\n"
          ]
        }
      ],
      "source": [
        "# 80% vai ser treino, 20% vai ser teste\n",
        "# 0.8 * 6695 = 5356\n",
        "# até o índice 5356 vai ser treino, depois disso é teste\n",
        "\n",
        "# é o dado\n",
        "x = df.filter(['texto'])\n",
        "\n",
        "x_train_raw = x.iloc[:5356] \n",
        "x_test_raw = x.iloc[5356:]  \n",
        "\n",
        "# é o resultado do dado\n",
        "y = df.filter(['id_ent'])\n",
        "\n",
        "y_train_raw = y.iloc[:5356]\n",
        "y_test_raw = y.iloc[5356:]\n",
        "\n",
        "\n",
        "# preciso transformar o texto num numero\n",
        "\n",
        "frases = df.filter(['texto'])\n",
        "\n",
        "\n",
        "valores_distintos = y_train_raw['id_ent'].nunique() + 1\n",
        "valores_distintos_nao_nulos = y_train_raw['id_ent'].count()\n",
        "\n",
        "print(valores_distintos)              # entidades possíveis\n",
        "print(valores_distintos_nao_nulos)    # repetições\n"
      ]
    },
    {
      "cell_type": "markdown",
      "metadata": {
        "id": "hQLcoTHWu4iH"
      },
      "source": [
        "### Conversão para \"one-hot codes\" 🔥"
      ]
    },
    {
      "cell_type": "code",
      "execution_count": 4,
      "metadata": {
        "colab": {
          "base_uri": "https://localhost:8080/"
        },
        "id": "zPqSdROyTVas",
        "outputId": "799128eb-87b0-4433-c72b-312fcabc38fc"
      },
      "outputs": [
        {
          "output_type": "stream",
          "name": "stdout",
          "text": [
            "[0. 0. 0. 0. 0. 0. 0. 0. 0. 0. 0. 0. 0. 0. 0. 0. 0. 0. 0. 0. 0. 0. 0. 0.\n",
            " 0. 0. 0. 0. 0. 0. 0. 0. 0. 0. 0. 0. 0. 0. 0. 0. 0. 0. 0. 0. 0. 0. 0. 0.\n",
            " 0. 0. 0. 0. 0. 0. 0. 0. 0. 0. 0. 0. 0. 0. 0. 0. 0. 0. 0. 0. 0. 0. 0. 0.\n",
            " 0. 0. 0. 0. 0. 0. 0. 0. 0. 0. 0. 0. 0. 0. 0. 0. 0. 0. 0. 0. 0. 0. 0. 0.\n",
            " 0. 0. 0. 0. 0. 0. 0. 0. 0. 0. 0. 0. 0. 0. 0. 0. 0. 0. 0. 0. 0. 0. 0. 0.\n",
            " 0. 0. 0. 0. 0. 0. 0. 0. 0. 0. 0. 0. 0. 0. 0. 0. 0. 0. 0. 0. 0. 0. 0. 0.\n",
            " 0. 0. 0. 0. 0. 0. 0. 0. 0. 0. 0. 0. 0. 0. 0. 0. 0. 0. 0. 0. 0. 0. 0. 0.\n",
            " 0. 0. 0. 0. 0. 0. 0. 0. 0. 0. 0. 0. 0. 0. 0. 0. 0. 0. 0. 0. 0. 0. 0. 0.\n",
            " 0. 0. 0. 0. 0. 0. 0. 0. 0. 0. 0. 0. 0. 0. 0. 0. 0. 0. 0. 0. 0. 0. 0. 0.\n",
            " 0. 0. 0. 0. 0. 0. 0. 0. 0. 0. 0. 0. 0. 0. 0. 0. 0. 0. 0. 0. 0. 0. 0. 0.\n",
            " 0. 0. 0. 0. 0. 0. 0. 0. 0. 0. 0. 0. 0. 0. 0. 0. 0. 0. 0. 0. 0. 0. 0. 0.\n",
            " 0. 0. 0. 0. 0. 0. 0. 0. 0. 0. 1. 0. 0. 0. 0. 0. 0. 0. 0. 0. 0. 0. 0. 0.\n",
            " 0. 0. 0. 0. 0. 0. 0. 0. 0. 0. 0. 0. 0. 0. 0. 0. 0. 0. 0. 0. 0. 0. 0. 0.\n",
            " 0. 0. 0. 0. 0. 0. 0. 0. 0. 0. 0. 0. 0. 0. 0. 0. 0. 0. 0. 0. 0. 0. 0. 0.\n",
            " 0. 0. 0. 0. 0. 0. 0. 0. 0. 0. 0. 0. 0. 0. 0. 0. 0. 0. 0. 0. 0. 0. 0. 0.\n",
            " 0. 0. 0. 0. 0. 0. 0. 0. 0. 0. 0. 0. 0. 0. 0. 0. 0. 0. 0. 0. 0. 0. 0. 0.\n",
            " 0. 0. 0. 0. 0. 0. 0. 0. 0. 0. 0. 0. 0. 0. 0. 0. 0. 0. 0. 0. 0. 0. 0. 0.\n",
            " 0. 0. 0. 0. 0. 0. 0. 0. 0. 0. 0. 0. 0. 0. 0. 0. 0. 0. 0. 0. 0. 0. 0. 0.\n",
            " 0. 0. 0. 0. 0. 0. 0. 0. 0. 0. 0. 0. 0. 0. 0. 0. 0. 0. 0. 0. 0. 0. 0. 0.\n",
            " 0. 0. 0. 0. 0. 0. 0. 0. 0. 0. 0. 0. 0. 0. 0. 0. 0. 0. 0. 0. 0. 0. 0. 0.\n",
            " 0. 0. 0. 0. 0. 0. 0. 0. 0. 0. 0. 0. 0. 0. 0. 0. 0. 0. 0. 0. 0. 0. 0. 0.\n",
            " 0. 0. 0. 0. 0. 0. 0. 0. 0. 0. 0. 0. 0. 0. 0. 0. 0. 0. 0. 0. 0. 0. 0. 0.\n",
            " 0. 0. 0. 0. 0. 0. 0. 0. 0. 0. 0. 0. 0. 0. 0. 0. 0. 0. 0. 0. 0. 0. 0. 0.\n",
            " 0. 0. 0. 0. 0. 0. 0. 0. 0. 0. 0. 0. 0. 0. 0. 0. 0. 0. 0. 0. 0. 0. 0. 0.\n",
            " 0. 0. 0. 0. 0. 0. 0. 0. 0. 0. 0. 0. 0. 0. 0. 0. 0. 0. 0. 0. 0. 0. 0. 0.\n",
            " 0. 0. 0. 0. 0. 0. 0. 0. 0. 0. 0. 0. 0. 0. 0. 0. 0. 0. 0. 0. 0. 0. 0. 0.\n",
            " 0.]\n"
          ]
        }
      ],
      "source": [
        "from tensorflow import keras\n",
        "\n",
        "# conversão para \"one-hot codes\"\n",
        "\n",
        "# to_categorical -> vai de 0 até \"valores_distintos - 1\" como uma possibilidade\n",
        "# esses dados começam em 1, vou subtrair 1 de tudo, para 0 virar uma categoria\n",
        "\n",
        "y_train_raw = y_train_raw - 1\n",
        "y_test_raw = y_test_raw - 1\n",
        "\n",
        "y_train = keras.utils.to_categorical(y_train_raw, valores_distintos+1)\n",
        "y_test = keras.utils.to_categorical(y_test_raw, valores_distintos+1)\n",
        "\n",
        "print(y_train[0])\n"
      ]
    },
    {
      "cell_type": "markdown",
      "metadata": {
        "id": "J9kwEOj9wuF3"
      },
      "source": [
        "### Testarei inicialmente a stemnminzação, retirada de acentos (para garantir) e a retirada de stopwords da parte do texto. Na retirada de stopwords, não contarei com a retirada de \"\\n\"."
      ]
    },
    {
      "cell_type": "code",
      "execution_count": 5,
      "metadata": {
        "colab": {
          "base_uri": "https://localhost:8080/"
        },
        "id": "lKLv6QUGypUr",
        "outputId": "e284bebd-bfca-40a5-8bbd-cde2df2e0f38"
      },
      "outputs": [
        {
          "output_type": "stream",
          "name": "stdout",
          "text": [
            "Collecting unidecode\n",
            "  Downloading Unidecode-1.3.4-py3-none-any.whl (235 kB)\n",
            "\u001b[?25l\r\u001b[K     |█▍                              | 10 kB 6.5 MB/s eta 0:00:01\r\u001b[K     |██▉                             | 20 kB 10.8 MB/s eta 0:00:01\r\u001b[K     |████▏                           | 30 kB 14.5 MB/s eta 0:00:01\r\u001b[K     |█████▋                          | 40 kB 17.7 MB/s eta 0:00:01\r\u001b[K     |███████                         | 51 kB 12.8 MB/s eta 0:00:01\r\u001b[K     |████████▍                       | 61 kB 14.6 MB/s eta 0:00:01\r\u001b[K     |█████████▊                      | 71 kB 14.3 MB/s eta 0:00:01\r\u001b[K     |███████████▏                    | 81 kB 8.7 MB/s eta 0:00:01\r\u001b[K     |████████████▌                   | 92 kB 9.5 MB/s eta 0:00:01\r\u001b[K     |██████████████                  | 102 kB 10.5 MB/s eta 0:00:01\r\u001b[K     |███████████████▎                | 112 kB 10.5 MB/s eta 0:00:01\r\u001b[K     |████████████████▊               | 122 kB 10.5 MB/s eta 0:00:01\r\u001b[K     |██████████████████              | 133 kB 10.5 MB/s eta 0:00:01\r\u001b[K     |███████████████████▌            | 143 kB 10.5 MB/s eta 0:00:01\r\u001b[K     |████████████████████▉           | 153 kB 10.5 MB/s eta 0:00:01\r\u001b[K     |██████████████████████▎         | 163 kB 10.5 MB/s eta 0:00:01\r\u001b[K     |███████████████████████▋        | 174 kB 10.5 MB/s eta 0:00:01\r\u001b[K     |█████████████████████████       | 184 kB 10.5 MB/s eta 0:00:01\r\u001b[K     |██████████████████████████▍     | 194 kB 10.5 MB/s eta 0:00:01\r\u001b[K     |███████████████████████████▉    | 204 kB 10.5 MB/s eta 0:00:01\r\u001b[K     |█████████████████████████████▏  | 215 kB 10.5 MB/s eta 0:00:01\r\u001b[K     |██████████████████████████████▋ | 225 kB 10.5 MB/s eta 0:00:01\r\u001b[K     |████████████████████████████████| 235 kB 10.5 MB/s eta 0:00:01\r\u001b[K     |████████████████████████████████| 235 kB 10.5 MB/s \n",
            "\u001b[?25hInstalling collected packages: unidecode\n",
            "Successfully installed unidecode-1.3.4\n"
          ]
        }
      ],
      "source": [
        "!pip install unidecode\n",
        "import unidecode"
      ]
    },
    {
      "cell_type": "code",
      "execution_count": 6,
      "metadata": {
        "colab": {
          "base_uri": "https://localhost:8080/"
        },
        "id": "SAluFrwjwvl0",
        "outputId": "e4491dbb-d969-4f30-c3da-75826c928c5f"
      },
      "outputs": [
        {
          "output_type": "stream",
          "name": "stderr",
          "text": [
            "/usr/local/lib/python3.7/dist-packages/ipykernel_launcher.py:4: SettingWithCopyWarning: \n",
            "A value is trying to be set on a copy of a slice from a DataFrame.\n",
            "Try using .loc[row_indexer,col_indexer] = value instead\n",
            "\n",
            "See the caveats in the documentation: https://pandas.pydata.org/pandas-docs/stable/user_guide/indexing.html#returning-a-view-versus-a-copy\n",
            "  after removing the cwd from sys.path.\n",
            "/usr/local/lib/python3.7/dist-packages/ipykernel_launcher.py:5: SettingWithCopyWarning: \n",
            "A value is trying to be set on a copy of a slice from a DataFrame.\n",
            "Try using .loc[row_indexer,col_indexer] = value instead\n",
            "\n",
            "See the caveats in the documentation: https://pandas.pydata.org/pandas-docs/stable/user_guide/indexing.html#returning-a-view-versus-a-copy\n",
            "  \"\"\"\n"
          ]
        }
      ],
      "source": [
        "# retirada de acentos\n",
        "\n",
        "frases['texto'] = frases['texto'].apply(lambda x: ' '.join([unidecode.unidecode(termo) for termo in x.split()]))\n",
        "x_train_raw['texto'] = x_train_raw['texto'].apply(lambda x: ' '.join([unidecode.unidecode(termo) for termo in x.split()]))\n",
        "x_test_raw['texto'] = x_test_raw['texto'].apply(lambda x: ' '.join([unidecode.unidecode(termo) for termo in x.split()]))"
      ]
    },
    {
      "cell_type": "code",
      "execution_count": 7,
      "metadata": {
        "colab": {
          "base_uri": "https://localhost:8080/"
        },
        "id": "XRu84WZizVGf",
        "outputId": "10ec53aa-1b34-449b-c172-352dd32f00cd"
      },
      "outputs": [
        {
          "output_type": "stream",
          "name": "stdout",
          "text": [
            "[nltk_data] Downloading package stopwords to /root/nltk_data...\n",
            "[nltk_data]   Unzipping corpora/stopwords.zip.\n"
          ]
        }
      ],
      "source": [
        "import nltk\n",
        "nltk.download('stopwords')\n",
        "stopwords = nltk.corpus.stopwords.words('portuguese')"
      ]
    },
    {
      "cell_type": "code",
      "execution_count": 8,
      "metadata": {
        "colab": {
          "base_uri": "https://localhost:8080/"
        },
        "id": "721eG7ALzYWd",
        "outputId": "b14068cf-f32d-4456-b350-bc027814dd1d"
      },
      "outputs": [
        {
          "output_type": "stream",
          "name": "stderr",
          "text": [
            "/usr/local/lib/python3.7/dist-packages/ipykernel_launcher.py:4: SettingWithCopyWarning: \n",
            "A value is trying to be set on a copy of a slice from a DataFrame.\n",
            "Try using .loc[row_indexer,col_indexer] = value instead\n",
            "\n",
            "See the caveats in the documentation: https://pandas.pydata.org/pandas-docs/stable/user_guide/indexing.html#returning-a-view-versus-a-copy\n",
            "  after removing the cwd from sys.path.\n",
            "/usr/local/lib/python3.7/dist-packages/ipykernel_launcher.py:5: SettingWithCopyWarning: \n",
            "A value is trying to be set on a copy of a slice from a DataFrame.\n",
            "Try using .loc[row_indexer,col_indexer] = value instead\n",
            "\n",
            "See the caveats in the documentation: https://pandas.pydata.org/pandas-docs/stable/user_guide/indexing.html#returning-a-view-versus-a-copy\n",
            "  \"\"\"\n"
          ]
        }
      ],
      "source": [
        "# retirada de stopwords\n",
        "\n",
        "frases['texto'] = frases['texto'].apply(lambda x: ' '.join([termo for termo in x.split() if termo not in stopwords]))\n",
        "x_train_raw['texto'] = x_train_raw['texto'].apply(lambda x: ' '.join([termo for termo in x.split() if termo not in stopwords]))\n",
        "x_test_raw['texto'] = x_test_raw['texto'].apply(lambda x: ' '.join([termo for termo in x.split() if termo not in stopwords]))"
      ]
    },
    {
      "cell_type": "code",
      "execution_count": 9,
      "metadata": {
        "colab": {
          "base_uri": "https://localhost:8080/"
        },
        "id": "AcO9twwHz71K",
        "outputId": "f0bf0cc1-fc00-43bf-8d8b-c0d85fa39019"
      },
      "outputs": [
        {
          "output_type": "stream",
          "name": "stdout",
          "text": [
            "[nltk_data] Downloading package rslp to /root/nltk_data...\n",
            "[nltk_data]   Unzipping stemmers/rslp.zip.\n"
          ]
        }
      ],
      "source": [
        "nltk.download('rslp')\n",
        "stemmer = nltk.stem.RSLPStemmer()"
      ]
    },
    {
      "cell_type": "code",
      "execution_count": 10,
      "metadata": {
        "colab": {
          "base_uri": "https://localhost:8080/"
        },
        "id": "ehhfyxkMz_Mf",
        "outputId": "4987f6d7-67d8-4ec5-932e-12d90fdbc88f"
      },
      "outputs": [
        {
          "output_type": "stream",
          "name": "stderr",
          "text": [
            "/usr/local/lib/python3.7/dist-packages/ipykernel_launcher.py:4: SettingWithCopyWarning: \n",
            "A value is trying to be set on a copy of a slice from a DataFrame.\n",
            "Try using .loc[row_indexer,col_indexer] = value instead\n",
            "\n",
            "See the caveats in the documentation: https://pandas.pydata.org/pandas-docs/stable/user_guide/indexing.html#returning-a-view-versus-a-copy\n",
            "  after removing the cwd from sys.path.\n",
            "/usr/local/lib/python3.7/dist-packages/ipykernel_launcher.py:5: SettingWithCopyWarning: \n",
            "A value is trying to be set on a copy of a slice from a DataFrame.\n",
            "Try using .loc[row_indexer,col_indexer] = value instead\n",
            "\n",
            "See the caveats in the documentation: https://pandas.pydata.org/pandas-docs/stable/user_guide/indexing.html#returning-a-view-versus-a-copy\n",
            "  \"\"\"\n"
          ]
        }
      ],
      "source": [
        "# steminização\n",
        "\n",
        "frases['texto'] = frases['texto'].apply(lambda x: ' '.join(stemmer.stem(termo) for termo in x.split()))\n",
        "x_train_raw['texto'] = x_train_raw['texto'].apply(lambda x: ' '.join(stemmer.stem(termo) for termo in x.split()))\n",
        "x_test_raw['texto'] = x_test_raw['texto'].apply(lambda x: ' '.join(stemmer.stem(termo) for termo in x.split()))"
      ]
    },
    {
      "cell_type": "code",
      "source": [
        "words_raw = set()\n",
        "\n",
        "for i in range(5356):\n",
        "    # printing a third element of column\n",
        "    nossa_string = frases['texto'][i]\n",
        "    for termo in nossa_string.split():\n",
        "      words_raw.add(termo)\n",
        "\n",
        "words_raw = list(words_raw)\n",
        "num_words = len(words_raw)\n",
        "\n",
        "def remove_dups(lista):\n",
        "    \"\"\"Remove os itens duplicados mantendo a ordem original.\"\"\"\n",
        "    return list(dict.fromkeys(lista))\n",
        "\n",
        "words = remove_dups(words_raw)\n",
        "words.sort()\n",
        "num_words = len(words)\n",
        "\n",
        "# lista de palavras possíveis\n",
        "num_words"
      ],
      "metadata": {
        "colab": {
          "base_uri": "https://localhost:8080/"
        },
        "id": "0MDubeEflLtK",
        "outputId": "9747201c-811f-4187-9236-df4e5e8fad16"
      },
      "execution_count": 11,
      "outputs": [
        {
          "output_type": "execute_result",
          "data": {
            "text/plain": [
              "11286"
            ]
          },
          "metadata": {},
          "execution_count": 11
        }
      ]
    },
    {
      "cell_type": "markdown",
      "source": [
        "# Mapeando texto em valores numéricos para alimentar a rede neural 🦜\n",
        "\n",
        "Minha idéia: **Polynomial Rolling Hash**, como explicado neste [link](https://www.geeksforgeeks.org/string-hashing-using-polynomial-rolling-hash-function/)."
      ],
      "metadata": {
        "id": "0EFPyxoyc5EL"
      }
    },
    {
      "cell_type": "code",
      "execution_count": 12,
      "metadata": {
        "colab": {
          "base_uri": "https://localhost:8080/",
          "height": 602
        },
        "id": "UeYoPhcM0ZY4",
        "outputId": "353989f9-5978-4146-edbc-18945ea8eab9"
      },
      "outputs": [
        {
          "output_type": "stream",
          "name": "stderr",
          "text": [
            "/usr/local/lib/python3.7/dist-packages/ipykernel_launcher.py:46: SettingWithCopyWarning: \n",
            "A value is trying to be set on a copy of a slice from a DataFrame.\n",
            "Try using .loc[row_indexer,col_indexer] = value instead\n",
            "\n",
            "See the caveats in the documentation: https://pandas.pydata.org/pandas-docs/stable/user_guide/indexing.html#returning-a-view-versus-a-copy\n",
            "/usr/local/lib/python3.7/dist-packages/ipykernel_launcher.py:47: SettingWithCopyWarning: \n",
            "A value is trying to be set on a copy of a slice from a DataFrame.\n",
            "Try using .loc[row_indexer,col_indexer] = value instead\n",
            "\n",
            "See the caveats in the documentation: https://pandas.pydata.org/pandas-docs/stable/user_guide/indexing.html#returning-a-view-versus-a-copy\n"
          ]
        },
        {
          "output_type": "execute_result",
          "data": {
            "text/plain": [
              "             texto\n",
              "0     3.566527e+08\n",
              "1     6.612621e+08\n",
              "2     3.541638e+08\n",
              "3     5.749177e+08\n",
              "4     7.911207e+08\n",
              "...            ...\n",
              "5351  8.515923e+08\n",
              "5352  1.779231e+08\n",
              "5353  5.163980e+08\n",
              "5354  9.074186e+08\n",
              "5355  5.334141e+08\n",
              "\n",
              "[5356 rows x 1 columns]"
            ],
            "text/html": [
              "\n",
              "  <div id=\"df-6f3ed152-ff4c-491b-972f-eaba0af11755\">\n",
              "    <div class=\"colab-df-container\">\n",
              "      <div>\n",
              "<style scoped>\n",
              "    .dataframe tbody tr th:only-of-type {\n",
              "        vertical-align: middle;\n",
              "    }\n",
              "\n",
              "    .dataframe tbody tr th {\n",
              "        vertical-align: top;\n",
              "    }\n",
              "\n",
              "    .dataframe thead th {\n",
              "        text-align: right;\n",
              "    }\n",
              "</style>\n",
              "<table border=\"1\" class=\"dataframe\">\n",
              "  <thead>\n",
              "    <tr style=\"text-align: right;\">\n",
              "      <th></th>\n",
              "      <th>texto</th>\n",
              "    </tr>\n",
              "  </thead>\n",
              "  <tbody>\n",
              "    <tr>\n",
              "      <th>0</th>\n",
              "      <td>3.566527e+08</td>\n",
              "    </tr>\n",
              "    <tr>\n",
              "      <th>1</th>\n",
              "      <td>6.612621e+08</td>\n",
              "    </tr>\n",
              "    <tr>\n",
              "      <th>2</th>\n",
              "      <td>3.541638e+08</td>\n",
              "    </tr>\n",
              "    <tr>\n",
              "      <th>3</th>\n",
              "      <td>5.749177e+08</td>\n",
              "    </tr>\n",
              "    <tr>\n",
              "      <th>4</th>\n",
              "      <td>7.911207e+08</td>\n",
              "    </tr>\n",
              "    <tr>\n",
              "      <th>...</th>\n",
              "      <td>...</td>\n",
              "    </tr>\n",
              "    <tr>\n",
              "      <th>5351</th>\n",
              "      <td>8.515923e+08</td>\n",
              "    </tr>\n",
              "    <tr>\n",
              "      <th>5352</th>\n",
              "      <td>1.779231e+08</td>\n",
              "    </tr>\n",
              "    <tr>\n",
              "      <th>5353</th>\n",
              "      <td>5.163980e+08</td>\n",
              "    </tr>\n",
              "    <tr>\n",
              "      <th>5354</th>\n",
              "      <td>9.074186e+08</td>\n",
              "    </tr>\n",
              "    <tr>\n",
              "      <th>5355</th>\n",
              "      <td>5.334141e+08</td>\n",
              "    </tr>\n",
              "  </tbody>\n",
              "</table>\n",
              "<p>5356 rows × 1 columns</p>\n",
              "</div>\n",
              "      <button class=\"colab-df-convert\" onclick=\"convertToInteractive('df-6f3ed152-ff4c-491b-972f-eaba0af11755')\"\n",
              "              title=\"Convert this dataframe to an interactive table.\"\n",
              "              style=\"display:none;\">\n",
              "        \n",
              "  <svg xmlns=\"http://www.w3.org/2000/svg\" height=\"24px\"viewBox=\"0 0 24 24\"\n",
              "       width=\"24px\">\n",
              "    <path d=\"M0 0h24v24H0V0z\" fill=\"none\"/>\n",
              "    <path d=\"M18.56 5.44l.94 2.06.94-2.06 2.06-.94-2.06-.94-.94-2.06-.94 2.06-2.06.94zm-11 1L8.5 8.5l.94-2.06 2.06-.94-2.06-.94L8.5 2.5l-.94 2.06-2.06.94zm10 10l.94 2.06.94-2.06 2.06-.94-2.06-.94-.94-2.06-.94 2.06-2.06.94z\"/><path d=\"M17.41 7.96l-1.37-1.37c-.4-.4-.92-.59-1.43-.59-.52 0-1.04.2-1.43.59L10.3 9.45l-7.72 7.72c-.78.78-.78 2.05 0 2.83L4 21.41c.39.39.9.59 1.41.59.51 0 1.02-.2 1.41-.59l7.78-7.78 2.81-2.81c.8-.78.8-2.07 0-2.86zM5.41 20L4 18.59l7.72-7.72 1.47 1.35L5.41 20z\"/>\n",
              "  </svg>\n",
              "      </button>\n",
              "      \n",
              "  <style>\n",
              "    .colab-df-container {\n",
              "      display:flex;\n",
              "      flex-wrap:wrap;\n",
              "      gap: 12px;\n",
              "    }\n",
              "\n",
              "    .colab-df-convert {\n",
              "      background-color: #E8F0FE;\n",
              "      border: none;\n",
              "      border-radius: 50%;\n",
              "      cursor: pointer;\n",
              "      display: none;\n",
              "      fill: #1967D2;\n",
              "      height: 32px;\n",
              "      padding: 0 0 0 0;\n",
              "      width: 32px;\n",
              "    }\n",
              "\n",
              "    .colab-df-convert:hover {\n",
              "      background-color: #E2EBFA;\n",
              "      box-shadow: 0px 1px 2px rgba(60, 64, 67, 0.3), 0px 1px 3px 1px rgba(60, 64, 67, 0.15);\n",
              "      fill: #174EA6;\n",
              "    }\n",
              "\n",
              "    [theme=dark] .colab-df-convert {\n",
              "      background-color: #3B4455;\n",
              "      fill: #D2E3FC;\n",
              "    }\n",
              "\n",
              "    [theme=dark] .colab-df-convert:hover {\n",
              "      background-color: #434B5C;\n",
              "      box-shadow: 0px 1px 3px 1px rgba(0, 0, 0, 0.15);\n",
              "      filter: drop-shadow(0px 1px 2px rgba(0, 0, 0, 0.3));\n",
              "      fill: #FFFFFF;\n",
              "    }\n",
              "  </style>\n",
              "\n",
              "      <script>\n",
              "        const buttonEl =\n",
              "          document.querySelector('#df-6f3ed152-ff4c-491b-972f-eaba0af11755 button.colab-df-convert');\n",
              "        buttonEl.style.display =\n",
              "          google.colab.kernel.accessAllowed ? 'block' : 'none';\n",
              "\n",
              "        async function convertToInteractive(key) {\n",
              "          const element = document.querySelector('#df-6f3ed152-ff4c-491b-972f-eaba0af11755');\n",
              "          const dataTable =\n",
              "            await google.colab.kernel.invokeFunction('convertToInteractive',\n",
              "                                                     [key], {});\n",
              "          if (!dataTable) return;\n",
              "\n",
              "          const docLinkHtml = 'Like what you see? Visit the ' +\n",
              "            '<a target=\"_blank\" href=https://colab.research.google.com/notebooks/data_table.ipynb>data table notebook</a>'\n",
              "            + ' to learn more about interactive tables.';\n",
              "          element.innerHTML = '';\n",
              "          dataTable['output_type'] = 'display_data';\n",
              "          await google.colab.output.renderOutput(dataTable, element);\n",
              "          const docLink = document.createElement('div');\n",
              "          docLink.innerHTML = docLinkHtml;\n",
              "          element.appendChild(docLink);\n",
              "        }\n",
              "      </script>\n",
              "    </div>\n",
              "  </div>\n",
              "  "
            ]
          },
          "metadata": {},
          "execution_count": 12
        }
      ],
      "source": [
        "# Limpeza pronta!\n",
        "\n",
        "# eu tenho uma lista de palavras, \"words\"\n",
        "# agora quero mapear cada palavra em x para um valor inteiro nessa lista\n",
        "\n",
        "\n",
        "class Hash:\n",
        "    def __init__(self, s: str):\n",
        "        self.hash_value = 0\n",
        "        self.p, self.m = 29791, 10**9 + 7\n",
        "        self.length = len(s)\n",
        "        hash_so_far = 0\n",
        "        p_pow = 1\n",
        "        for i in range(self.length):\n",
        "            hash_so_far = (hash_so_far + (1 + ord(s[i]) - ord('a')) * p_pow) % self.m\n",
        "            p_pow = (p_pow * self.p) % self.m\n",
        "        self.hash_value = hash_so_far\n",
        "     \n",
        "    def __eq__(self, other):\n",
        "        return self.hash_value == other.hash_value\n",
        " \n",
        "\n",
        "\n",
        "def retorna_valor(frase):\n",
        "\n",
        "  j = 0\n",
        "  contador = 0\n",
        "\n",
        "  acumulado = 0\n",
        "\n",
        "  for termo in frase.split():\n",
        "    \n",
        "    j = Hash(termo)\n",
        "    acumulado = acumulado + j.hash_value\n",
        "    contador = contador + 1\n",
        "\n",
        "  if(contador != 0):\n",
        "    resultado = acumulado/contador\n",
        "  else:\n",
        "    resultado = acumulado\n",
        "\n",
        "  return resultado\n",
        "\n",
        "x_train = x_train_raw\n",
        "x_test = x_test_raw\n",
        "\n",
        "x_train['texto'] = x_train_raw['texto'].apply(retorna_valor)\n",
        "x_test['texto'] = x_test_raw['texto'].apply(retorna_valor)\n",
        "\n",
        "# vamos realizar a visualização do que vai servir de treino\n",
        "x_train"
      ]
    },
    {
      "cell_type": "code",
      "source": [
        "# deve-se mapear o menor e o maior valor para um range entre (x e y)\n",
        "\n",
        "from scipy.interpolate import interp1d\n",
        "\n",
        "max_index_train = x_train['texto'].max()\n",
        "max_index_test = x_test['texto'].max()\n",
        "\n",
        "if(max_index_train > max_index_test):\n",
        "  max = max_index_train\n",
        "else:\n",
        "  max = max_index_test\n",
        "\n",
        "min_index_train = x_train['texto'].max()\n",
        "min_index_test = x_test['texto'].max()\n",
        "\n",
        "if(min_index_train < min_index_test):\n",
        "  min = min_index_train\n",
        "else:\n",
        "  min = min_index_test\n",
        "\n",
        "print(\"Maior valor retornado -> \" + str(max))\n",
        "print(\"Menor valor retornado -> \" + str(min))\n",
        "\n",
        "def new_map(s):\n",
        "  a = [min, max]\n",
        "  b = [0, 4096]\n",
        "  (a1, a2), (b1, b2) = a, b\n",
        "  return  b1 + ((s - a1) * (b2 - b1) / (a2 - a1))\n",
        "\n",
        "\n",
        "#x_train['texto'] = x_train['texto'].apply(new_map)\n",
        "#x_test['texto'] = x_test['texto'].apply(new_map)\n"
      ],
      "metadata": {
        "colab": {
          "base_uri": "https://localhost:8080/"
        },
        "id": "s4goodkkvP9Z",
        "outputId": "8739d586-1374-47cb-f0ab-fff9d1e568a4"
      },
      "execution_count": 13,
      "outputs": [
        {
          "output_type": "stream",
          "name": "stdout",
          "text": [
            "Maior valor retornado -> 999999965.0\n",
            "Menor valor retornado -> 999999964.0\n"
          ]
        }
      ]
    },
    {
      "cell_type": "code",
      "execution_count": 14,
      "metadata": {
        "colab": {
          "base_uri": "https://localhost:8080/",
          "height": 424
        },
        "id": "r8qehV_r0hdt",
        "outputId": "51cdc5dd-7fa9-488a-cf69-b92f7b3ab6a6"
      },
      "outputs": [
        {
          "output_type": "execute_result",
          "data": {
            "text/plain": [
              "             texto\n",
              "5356  4.559366e+08\n",
              "5357  4.411848e+08\n",
              "5358  6.520701e+08\n",
              "5359  8.489808e+08\n",
              "5360  1.914764e+08\n",
              "...            ...\n",
              "6691  8.438076e+08\n",
              "6692  6.336678e+08\n",
              "6693  4.264069e+08\n",
              "6694  8.278445e+08\n",
              "6695  5.731909e+08\n",
              "\n",
              "[1340 rows x 1 columns]"
            ],
            "text/html": [
              "\n",
              "  <div id=\"df-467b630b-0749-4eea-9785-0fe05684be7b\">\n",
              "    <div class=\"colab-df-container\">\n",
              "      <div>\n",
              "<style scoped>\n",
              "    .dataframe tbody tr th:only-of-type {\n",
              "        vertical-align: middle;\n",
              "    }\n",
              "\n",
              "    .dataframe tbody tr th {\n",
              "        vertical-align: top;\n",
              "    }\n",
              "\n",
              "    .dataframe thead th {\n",
              "        text-align: right;\n",
              "    }\n",
              "</style>\n",
              "<table border=\"1\" class=\"dataframe\">\n",
              "  <thead>\n",
              "    <tr style=\"text-align: right;\">\n",
              "      <th></th>\n",
              "      <th>texto</th>\n",
              "    </tr>\n",
              "  </thead>\n",
              "  <tbody>\n",
              "    <tr>\n",
              "      <th>5356</th>\n",
              "      <td>4.559366e+08</td>\n",
              "    </tr>\n",
              "    <tr>\n",
              "      <th>5357</th>\n",
              "      <td>4.411848e+08</td>\n",
              "    </tr>\n",
              "    <tr>\n",
              "      <th>5358</th>\n",
              "      <td>6.520701e+08</td>\n",
              "    </tr>\n",
              "    <tr>\n",
              "      <th>5359</th>\n",
              "      <td>8.489808e+08</td>\n",
              "    </tr>\n",
              "    <tr>\n",
              "      <th>5360</th>\n",
              "      <td>1.914764e+08</td>\n",
              "    </tr>\n",
              "    <tr>\n",
              "      <th>...</th>\n",
              "      <td>...</td>\n",
              "    </tr>\n",
              "    <tr>\n",
              "      <th>6691</th>\n",
              "      <td>8.438076e+08</td>\n",
              "    </tr>\n",
              "    <tr>\n",
              "      <th>6692</th>\n",
              "      <td>6.336678e+08</td>\n",
              "    </tr>\n",
              "    <tr>\n",
              "      <th>6693</th>\n",
              "      <td>4.264069e+08</td>\n",
              "    </tr>\n",
              "    <tr>\n",
              "      <th>6694</th>\n",
              "      <td>8.278445e+08</td>\n",
              "    </tr>\n",
              "    <tr>\n",
              "      <th>6695</th>\n",
              "      <td>5.731909e+08</td>\n",
              "    </tr>\n",
              "  </tbody>\n",
              "</table>\n",
              "<p>1340 rows × 1 columns</p>\n",
              "</div>\n",
              "      <button class=\"colab-df-convert\" onclick=\"convertToInteractive('df-467b630b-0749-4eea-9785-0fe05684be7b')\"\n",
              "              title=\"Convert this dataframe to an interactive table.\"\n",
              "              style=\"display:none;\">\n",
              "        \n",
              "  <svg xmlns=\"http://www.w3.org/2000/svg\" height=\"24px\"viewBox=\"0 0 24 24\"\n",
              "       width=\"24px\">\n",
              "    <path d=\"M0 0h24v24H0V0z\" fill=\"none\"/>\n",
              "    <path d=\"M18.56 5.44l.94 2.06.94-2.06 2.06-.94-2.06-.94-.94-2.06-.94 2.06-2.06.94zm-11 1L8.5 8.5l.94-2.06 2.06-.94-2.06-.94L8.5 2.5l-.94 2.06-2.06.94zm10 10l.94 2.06.94-2.06 2.06-.94-2.06-.94-.94-2.06-.94 2.06-2.06.94z\"/><path d=\"M17.41 7.96l-1.37-1.37c-.4-.4-.92-.59-1.43-.59-.52 0-1.04.2-1.43.59L10.3 9.45l-7.72 7.72c-.78.78-.78 2.05 0 2.83L4 21.41c.39.39.9.59 1.41.59.51 0 1.02-.2 1.41-.59l7.78-7.78 2.81-2.81c.8-.78.8-2.07 0-2.86zM5.41 20L4 18.59l7.72-7.72 1.47 1.35L5.41 20z\"/>\n",
              "  </svg>\n",
              "      </button>\n",
              "      \n",
              "  <style>\n",
              "    .colab-df-container {\n",
              "      display:flex;\n",
              "      flex-wrap:wrap;\n",
              "      gap: 12px;\n",
              "    }\n",
              "\n",
              "    .colab-df-convert {\n",
              "      background-color: #E8F0FE;\n",
              "      border: none;\n",
              "      border-radius: 50%;\n",
              "      cursor: pointer;\n",
              "      display: none;\n",
              "      fill: #1967D2;\n",
              "      height: 32px;\n",
              "      padding: 0 0 0 0;\n",
              "      width: 32px;\n",
              "    }\n",
              "\n",
              "    .colab-df-convert:hover {\n",
              "      background-color: #E2EBFA;\n",
              "      box-shadow: 0px 1px 2px rgba(60, 64, 67, 0.3), 0px 1px 3px 1px rgba(60, 64, 67, 0.15);\n",
              "      fill: #174EA6;\n",
              "    }\n",
              "\n",
              "    [theme=dark] .colab-df-convert {\n",
              "      background-color: #3B4455;\n",
              "      fill: #D2E3FC;\n",
              "    }\n",
              "\n",
              "    [theme=dark] .colab-df-convert:hover {\n",
              "      background-color: #434B5C;\n",
              "      box-shadow: 0px 1px 3px 1px rgba(0, 0, 0, 0.15);\n",
              "      filter: drop-shadow(0px 1px 2px rgba(0, 0, 0, 0.3));\n",
              "      fill: #FFFFFF;\n",
              "    }\n",
              "  </style>\n",
              "\n",
              "      <script>\n",
              "        const buttonEl =\n",
              "          document.querySelector('#df-467b630b-0749-4eea-9785-0fe05684be7b button.colab-df-convert');\n",
              "        buttonEl.style.display =\n",
              "          google.colab.kernel.accessAllowed ? 'block' : 'none';\n",
              "\n",
              "        async function convertToInteractive(key) {\n",
              "          const element = document.querySelector('#df-467b630b-0749-4eea-9785-0fe05684be7b');\n",
              "          const dataTable =\n",
              "            await google.colab.kernel.invokeFunction('convertToInteractive',\n",
              "                                                     [key], {});\n",
              "          if (!dataTable) return;\n",
              "\n",
              "          const docLinkHtml = 'Like what you see? Visit the ' +\n",
              "            '<a target=\"_blank\" href=https://colab.research.google.com/notebooks/data_table.ipynb>data table notebook</a>'\n",
              "            + ' to learn more about interactive tables.';\n",
              "          element.innerHTML = '';\n",
              "          dataTable['output_type'] = 'display_data';\n",
              "          await google.colab.output.renderOutput(dataTable, element);\n",
              "          const docLink = document.createElement('div');\n",
              "          docLink.innerHTML = docLinkHtml;\n",
              "          element.appendChild(docLink);\n",
              "        }\n",
              "      </script>\n",
              "    </div>\n",
              "  </div>\n",
              "  "
            ]
          },
          "metadata": {},
          "execution_count": 14
        }
      ],
      "source": [
        "# vamos realizar a visualização do que vai servir de teste\n",
        "\n",
        "x_test"
      ]
    },
    {
      "cell_type": "code",
      "source": [
        "# vamos realizar a visualização do que vai servir de treino\n",
        "\n",
        "x_train"
      ],
      "metadata": {
        "colab": {
          "base_uri": "https://localhost:8080/",
          "height": 424
        },
        "id": "btzK1eSbzjMk",
        "outputId": "e4c7efe7-654b-430e-f1b0-cf00b9e0fd47"
      },
      "execution_count": 15,
      "outputs": [
        {
          "output_type": "execute_result",
          "data": {
            "text/plain": [
              "             texto\n",
              "0     3.566527e+08\n",
              "1     6.612621e+08\n",
              "2     3.541638e+08\n",
              "3     5.749177e+08\n",
              "4     7.911207e+08\n",
              "...            ...\n",
              "5351  8.515923e+08\n",
              "5352  1.779231e+08\n",
              "5353  5.163980e+08\n",
              "5354  9.074186e+08\n",
              "5355  5.334141e+08\n",
              "\n",
              "[5356 rows x 1 columns]"
            ],
            "text/html": [
              "\n",
              "  <div id=\"df-32539230-4752-479e-817a-2a7a919cd5f1\">\n",
              "    <div class=\"colab-df-container\">\n",
              "      <div>\n",
              "<style scoped>\n",
              "    .dataframe tbody tr th:only-of-type {\n",
              "        vertical-align: middle;\n",
              "    }\n",
              "\n",
              "    .dataframe tbody tr th {\n",
              "        vertical-align: top;\n",
              "    }\n",
              "\n",
              "    .dataframe thead th {\n",
              "        text-align: right;\n",
              "    }\n",
              "</style>\n",
              "<table border=\"1\" class=\"dataframe\">\n",
              "  <thead>\n",
              "    <tr style=\"text-align: right;\">\n",
              "      <th></th>\n",
              "      <th>texto</th>\n",
              "    </tr>\n",
              "  </thead>\n",
              "  <tbody>\n",
              "    <tr>\n",
              "      <th>0</th>\n",
              "      <td>3.566527e+08</td>\n",
              "    </tr>\n",
              "    <tr>\n",
              "      <th>1</th>\n",
              "      <td>6.612621e+08</td>\n",
              "    </tr>\n",
              "    <tr>\n",
              "      <th>2</th>\n",
              "      <td>3.541638e+08</td>\n",
              "    </tr>\n",
              "    <tr>\n",
              "      <th>3</th>\n",
              "      <td>5.749177e+08</td>\n",
              "    </tr>\n",
              "    <tr>\n",
              "      <th>4</th>\n",
              "      <td>7.911207e+08</td>\n",
              "    </tr>\n",
              "    <tr>\n",
              "      <th>...</th>\n",
              "      <td>...</td>\n",
              "    </tr>\n",
              "    <tr>\n",
              "      <th>5351</th>\n",
              "      <td>8.515923e+08</td>\n",
              "    </tr>\n",
              "    <tr>\n",
              "      <th>5352</th>\n",
              "      <td>1.779231e+08</td>\n",
              "    </tr>\n",
              "    <tr>\n",
              "      <th>5353</th>\n",
              "      <td>5.163980e+08</td>\n",
              "    </tr>\n",
              "    <tr>\n",
              "      <th>5354</th>\n",
              "      <td>9.074186e+08</td>\n",
              "    </tr>\n",
              "    <tr>\n",
              "      <th>5355</th>\n",
              "      <td>5.334141e+08</td>\n",
              "    </tr>\n",
              "  </tbody>\n",
              "</table>\n",
              "<p>5356 rows × 1 columns</p>\n",
              "</div>\n",
              "      <button class=\"colab-df-convert\" onclick=\"convertToInteractive('df-32539230-4752-479e-817a-2a7a919cd5f1')\"\n",
              "              title=\"Convert this dataframe to an interactive table.\"\n",
              "              style=\"display:none;\">\n",
              "        \n",
              "  <svg xmlns=\"http://www.w3.org/2000/svg\" height=\"24px\"viewBox=\"0 0 24 24\"\n",
              "       width=\"24px\">\n",
              "    <path d=\"M0 0h24v24H0V0z\" fill=\"none\"/>\n",
              "    <path d=\"M18.56 5.44l.94 2.06.94-2.06 2.06-.94-2.06-.94-.94-2.06-.94 2.06-2.06.94zm-11 1L8.5 8.5l.94-2.06 2.06-.94-2.06-.94L8.5 2.5l-.94 2.06-2.06.94zm10 10l.94 2.06.94-2.06 2.06-.94-2.06-.94-.94-2.06-.94 2.06-2.06.94z\"/><path d=\"M17.41 7.96l-1.37-1.37c-.4-.4-.92-.59-1.43-.59-.52 0-1.04.2-1.43.59L10.3 9.45l-7.72 7.72c-.78.78-.78 2.05 0 2.83L4 21.41c.39.39.9.59 1.41.59.51 0 1.02-.2 1.41-.59l7.78-7.78 2.81-2.81c.8-.78.8-2.07 0-2.86zM5.41 20L4 18.59l7.72-7.72 1.47 1.35L5.41 20z\"/>\n",
              "  </svg>\n",
              "      </button>\n",
              "      \n",
              "  <style>\n",
              "    .colab-df-container {\n",
              "      display:flex;\n",
              "      flex-wrap:wrap;\n",
              "      gap: 12px;\n",
              "    }\n",
              "\n",
              "    .colab-df-convert {\n",
              "      background-color: #E8F0FE;\n",
              "      border: none;\n",
              "      border-radius: 50%;\n",
              "      cursor: pointer;\n",
              "      display: none;\n",
              "      fill: #1967D2;\n",
              "      height: 32px;\n",
              "      padding: 0 0 0 0;\n",
              "      width: 32px;\n",
              "    }\n",
              "\n",
              "    .colab-df-convert:hover {\n",
              "      background-color: #E2EBFA;\n",
              "      box-shadow: 0px 1px 2px rgba(60, 64, 67, 0.3), 0px 1px 3px 1px rgba(60, 64, 67, 0.15);\n",
              "      fill: #174EA6;\n",
              "    }\n",
              "\n",
              "    [theme=dark] .colab-df-convert {\n",
              "      background-color: #3B4455;\n",
              "      fill: #D2E3FC;\n",
              "    }\n",
              "\n",
              "    [theme=dark] .colab-df-convert:hover {\n",
              "      background-color: #434B5C;\n",
              "      box-shadow: 0px 1px 3px 1px rgba(0, 0, 0, 0.15);\n",
              "      filter: drop-shadow(0px 1px 2px rgba(0, 0, 0, 0.3));\n",
              "      fill: #FFFFFF;\n",
              "    }\n",
              "  </style>\n",
              "\n",
              "      <script>\n",
              "        const buttonEl =\n",
              "          document.querySelector('#df-32539230-4752-479e-817a-2a7a919cd5f1 button.colab-df-convert');\n",
              "        buttonEl.style.display =\n",
              "          google.colab.kernel.accessAllowed ? 'block' : 'none';\n",
              "\n",
              "        async function convertToInteractive(key) {\n",
              "          const element = document.querySelector('#df-32539230-4752-479e-817a-2a7a919cd5f1');\n",
              "          const dataTable =\n",
              "            await google.colab.kernel.invokeFunction('convertToInteractive',\n",
              "                                                     [key], {});\n",
              "          if (!dataTable) return;\n",
              "\n",
              "          const docLinkHtml = 'Like what you see? Visit the ' +\n",
              "            '<a target=\"_blank\" href=https://colab.research.google.com/notebooks/data_table.ipynb>data table notebook</a>'\n",
              "            + ' to learn more about interactive tables.';\n",
              "          element.innerHTML = '';\n",
              "          dataTable['output_type'] = 'display_data';\n",
              "          await google.colab.output.renderOutput(dataTable, element);\n",
              "          const docLink = document.createElement('div');\n",
              "          docLink.innerHTML = docLinkHtml;\n",
              "          element.appendChild(docLink);\n",
              "        }\n",
              "      </script>\n",
              "    </div>\n",
              "  </div>\n",
              "  "
            ]
          },
          "metadata": {},
          "execution_count": 15
        }
      ]
    },
    {
      "cell_type": "code",
      "source": [
        "num_words"
      ],
      "metadata": {
        "colab": {
          "base_uri": "https://localhost:8080/"
        },
        "id": "5ydFjd6ShAOn",
        "outputId": "3cf02b22-7388-487b-da4d-3b2f30011dc3"
      },
      "execution_count": 16,
      "outputs": [
        {
          "output_type": "execute_result",
          "data": {
            "text/plain": [
              "11286"
            ]
          },
          "metadata": {},
          "execution_count": 16
        }
      ]
    },
    {
      "cell_type": "code",
      "source": [
        "print(x_train.shape)\n",
        "print(x_test.shape)"
      ],
      "metadata": {
        "colab": {
          "base_uri": "https://localhost:8080/"
        },
        "id": "pTdP349FlqUz",
        "outputId": "65227a33-45ae-4760-a39d-cc721d8c2eaa"
      },
      "execution_count": 17,
      "outputs": [
        {
          "output_type": "stream",
          "name": "stdout",
          "text": [
            "(5356, 1)\n",
            "(1340, 1)\n"
          ]
        }
      ]
    },
    {
      "cell_type": "code",
      "source": [
        "# Definindo shape correto\n",
        "\n",
        "import numpy \n",
        "\n",
        "print(y_train.shape)\n",
        "y_train = numpy.delete(y_train, (0), axis=1)\n",
        "y_test = numpy.delete(y_test, (0), axis=1)\n",
        "print(y_train.shape)"
      ],
      "metadata": {
        "colab": {
          "base_uri": "https://localhost:8080/"
        },
        "id": "a-z2QJsRqvzC",
        "outputId": "602145f1-dde2-4006-c0cd-442f60c41358"
      },
      "execution_count": 18,
      "outputs": [
        {
          "output_type": "stream",
          "name": "stdout",
          "text": [
            "(5356, 625)\n",
            "(5356, 624)\n"
          ]
        }
      ]
    },
    {
      "cell_type": "markdown",
      "metadata": {
        "id": "v1D0lISgN_E3"
      },
      "source": [
        "# RNN: Recurrent Neural Network ♟\n",
        "\n",
        "### Nesse tipo de implementação, sequência e ordem importam!\n",
        "\n",
        "#### Qual deveria ser a proporção escolhida perfeita para essa rede neural é uma pergunta complexa.\n"
      ]
    },
    {
      "cell_type": "code",
      "source": [
        "x_train = np.expand_dims(x_train, axis=-1)\n",
        "y_train = np.expand_dims(y_train, axis=1)\n",
        "print(x_train.shape)\n",
        "print(y_train.shape)"
      ],
      "metadata": {
        "colab": {
          "base_uri": "https://localhost:8080/"
        },
        "id": "IKwjDIZCYfIf",
        "outputId": "0f8b2cca-4881-4ff9-dafb-1ca4ece500be"
      },
      "execution_count": 19,
      "outputs": [
        {
          "output_type": "stream",
          "name": "stdout",
          "text": [
            "(5356, 1, 1)\n",
            "(5356, 1, 624)\n"
          ]
        }
      ]
    },
    {
      "cell_type": "code",
      "source": [
        "print(x_test.shape)\n",
        "print(y_test.shape)\n",
        "\n",
        "\n",
        "print(x_test.shape)\n",
        "print(y_test.shape)"
      ],
      "metadata": {
        "colab": {
          "base_uri": "https://localhost:8080/"
        },
        "id": "1ZaWvuVBsyzG",
        "outputId": "5e04e91c-c342-4ba6-c69d-851bf1a18c31"
      },
      "execution_count": 20,
      "outputs": [
        {
          "output_type": "stream",
          "name": "stdout",
          "text": [
            "(1340, 1)\n",
            "(1340, 624)\n",
            "(1340, 1)\n",
            "(1340, 624)\n"
          ]
        }
      ]
    },
    {
      "cell_type": "markdown",
      "source": [
        "# Criando a rede neural 🧠 \n",
        "\n",
        "## Dúvida: como deve ser dada a arquitetura da minha rede? 🤔\n",
        "\n",
        "A rede neural terá uma camada de input com tamanho proporcional à entrada, e uma camada de saída com tamanho proporcional à classificação que será feita. \n",
        "\n",
        "Acertar a quantidade de \"hidden layers\" e quantos nós ela deve ter também é uma tarefa complexa. Dados linearmente separáveis não precisam de uma rede neural com \"hidden layer\", o que certamente não é este caso. Errar \"para mais\" não é uma solução otimizada assim como \"errar para menos\" também não é. \n",
        "\n",
        "[Adotarei este cálculo](https://stackoverflow.com/questions/10565868/multi-layer-perceptron-mlp-architecture-criteria-for-choosing-number-of-hidde) para ter um chute decente de quantos nós devo adotar:\n",
        "\n",
        "(num inputs + num outputs) x 2/3\n",
        "\n",
        "(5356 entradas + 624 classificações) x 2/3 = 3,986\n",
        "\n",
        "Arredondando ordens de grandes após alguns testes, farei uma rede com a seguinte estrutura de \"hidden layers\":\n",
        "\n",
        "4992 x 4992 x 2496 x 1248 x 1248 "
      ],
      "metadata": {
        "id": "r4LKWkgXSeOG"
      }
    },
    {
      "cell_type": "code",
      "execution_count": 21,
      "metadata": {
        "id": "yCDHuP9JOBOd"
      },
      "outputs": [],
      "source": [
        "#nx_train = x_train.to_numpy()\n",
        "#ny_train = y_train.to_numpy()\n",
        "#nx_test = x_test.to_numpy()\n",
        "#ny_test = y_test.to_numpy()\n",
        "\n",
        "#nx_train.reshape(1, 5356, 1)\n",
        "#ny_train.reshape(1, 5356, 625)\n",
        "#nx_test.reshape(1, 5356, 1)\n",
        "#zny_test.reshape(1, 5356, 625)\n",
        "\n",
        "# 28 sequencias de 28 elementos\n",
        "\n",
        "#x_train = np.expand_dims(x_train, axis=-1)\n",
        "#y_train = np.expand_dims(y_train, axis=-1)\n",
        "\n",
        "import tensorflow as tf\n",
        "from tensorflow.keras.models import Sequential\n",
        "from tensorflow.keras.layers import Dense, Dropout, LSTM\n",
        "\n",
        "# Input(shape = (T,D)) for RNN\n",
        "# T = T is length of time sequence\n",
        "# D = D is the number of features\n",
        "\n",
        "# x_train.shape[1:] => (1,)\n",
        "\n",
        "# input_shape=(x_train.shape[1:])\n",
        "# input_shape=(5356, 1)\n",
        "\n",
        "model = Sequential()\n",
        "\n",
        "model.add(LSTM(4992, input_shape=(x_train.shape[1:]), activation='relu', return_sequences=True))\n",
        "model.add(Dropout(0.2))\n",
        "\n",
        "model.add(LSTM(4992, activation='relu', return_sequences=True))\n",
        "model.add(Dropout(0.1))\n",
        "\n",
        "model.add(Dense(2496, activation='relu'))\n",
        "model.add(Dropout(0.2))\n",
        "\n",
        "model.add(Dense(1248, activation='relu'))\n",
        "model.add(Dropout(0.1))\n",
        "\n",
        "model.add(Dense(1248, activation='relu'))\n",
        "model.add(Dropout(0.1))\n",
        "\n",
        "model.add(Dense(valores_distintos, activation='softmax'))\n",
        "\n",
        "\n"
      ]
    },
    {
      "cell_type": "markdown",
      "metadata": {
        "id": "jNBxL30kvKqb"
      },
      "source": [
        "# Treinamento da RNN 🏋🏻‍♀️ \n",
        "\n"
      ]
    },
    {
      "cell_type": "code",
      "execution_count": null,
      "metadata": {
        "id": "jEvPj1xiYVFO",
        "colab": {
          "base_uri": "https://localhost:8080/"
        },
        "outputId": "83c27467-b934-4eb7-ff5d-2e5746a73537"
      },
      "outputs": [
        {
          "output_type": "stream",
          "name": "stdout",
          "text": [
            "(5356, 1, 1)\n",
            "(5356, 1, 624)\n",
            "Epoch 1/10\n",
            "168/168 [==============================] - 325s 2s/step - loss: 2329280512000.0000 - accuracy: 9.3353e-04 - val_loss: 6.0977 - val_accuracy: 0.0045\n",
            "Epoch 2/10\n",
            "168/168 [==============================] - 324s 2s/step - loss: 7.6475 - accuracy: 0.0015 - val_loss: 6.0736 - val_accuracy: 0.0030\n",
            "Epoch 3/10\n",
            "168/168 [==============================] - 328s 2s/step - loss: 7.2620 - accuracy: 0.0017 - val_loss: 6.0719 - val_accuracy: 0.0037\n",
            "Epoch 4/10\n",
            "168/168 [==============================] - 328s 2s/step - loss: 7.2352 - accuracy: 0.0022 - val_loss: 6.0623 - val_accuracy: 0.0037\n",
            "Epoch 5/10\n",
            "168/168 [==============================] - 351s 2s/step - loss: 675965960192.0000 - accuracy: 0.0022 - val_loss: 6.0693 - val_accuracy: 0.0030\n",
            "Epoch 6/10\n",
            "168/168 [==============================] - 331s 2s/step - loss: 7994565120.0000 - accuracy: 0.0024 - val_loss: 6.0615 - val_accuracy: 0.0037\n",
            "Epoch 7/10\n",
            "168/168 [==============================] - 334s 2s/step - loss: 6.3500 - accuracy: 0.0015 - val_loss: 6.0562 - val_accuracy: 0.0037\n",
            "Epoch 8/10\n",
            " 64/168 [==========>...................] - ETA: 3:19 - loss: 6.2954 - accuracy: 9.7656e-04"
          ]
        }
      ],
      "source": [
        "print(x_train.shape)\n",
        "print(y_train.shape)\n",
        "\n",
        "x_test = np.expand_dims(x_test, axis=-1)\n",
        "y_test = np.expand_dims(y_test, axis=1)\n",
        "\n",
        "opt = tf.keras.optimizers.Adam(learning_rate=0.1, decay=1e-3)\n",
        "\n",
        "model.compile(\n",
        "   loss='categorical_crossentropy',\n",
        "   optimizer=opt,\n",
        "   metrics=['accuracy'],\n",
        ")\n",
        "\n",
        "model.fit(x_train,\n",
        "          y_train,\n",
        "          epochs=10,\n",
        "          validation_data=(x_test, y_test))"
      ]
    },
    {
      "cell_type": "markdown",
      "source": [
        "# Avaliação do modelo 🤙🏻"
      ],
      "metadata": {
        "id": "4L9PEVe0XdrC"
      }
    },
    {
      "cell_type": "code",
      "source": [
        "score = model.evaluate(x_test, y_test, verbose=0)\n",
        "print('Test loss:', score[0])\n",
        "print('Test accuracy:', score[1])"
      ],
      "metadata": {
        "id": "zjQ5cO1fyhl7"
      },
      "execution_count": null,
      "outputs": []
    },
    {
      "cell_type": "markdown",
      "source": [
        "# Resultados 😳\n",
        "\n",
        "Para 624 classificações, um chute aleatório nos dá a chance de acerto de 1/625.\n",
        "\n",
        "No mínimo, os testes mostram que o desempenho da RNN é tipo um chute.\n",
        "\n",
        "*A expectativa é que esta estrutura para uma quantidade menor de classificações tenha um desempenho superior.*"
      ],
      "metadata": {
        "id": "6f8Yi2j4WSyo"
      }
    }
  ],
  "metadata": {
    "colab": {
      "collapsed_sections": [],
      "name": "TrabalhoFinal_CIC0087.ipynb",
      "provenance": []
    },
    "kernelspec": {
      "display_name": "Python 3",
      "name": "python3"
    },
    "language_info": {
      "name": "python"
    }
  },
  "nbformat": 4,
  "nbformat_minor": 0
}